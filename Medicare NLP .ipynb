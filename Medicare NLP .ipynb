{
 "cells": [
  {
   "cell_type": "markdown",
   "id": "35cd733f",
   "metadata": {},
   "source": [
    "# Brief Insight about Medicare :"
   ]
  },
  {
   "cell_type": "markdown",
   "id": "0144aaf1",
   "metadata": {},
   "source": [
    "Medicare is the federal government plan in the U.S. for paying certain hospital and medical expenses for elderly persons qualifying under the plan\n",
    "\n",
    "It is available for people age 65 or older, younger people with disabilities and people with End Stage Renal Disease (permanent kidney failure requiring dialysis or transplant). Medicare has two parts, Part A (Hospital Insurance) and Part B (Medicare Insurance). You are eligible for premium-free Part A if you are age 65 or older and you or your spouse worked and paid Medicare taxes for at least 10 years.\n",
    "\n",
    "Medicare Part A (Hospital Insurance): Part A covers inpatient hospital stays, care in a skilled nursing facility, hospice care, and some home health care.\n",
    "\n",
    "Medicare Part B (Medical Insurance): Part B covers certain doctors' services, outpatient care, medical supplies, and preventive services\n",
    "\n",
    "Medicare Part D (prescription drug coverage): Helps cover the cost of prescription drugs (including many recommended shots or vaccines)."
   ]
  },
  {
   "cell_type": "markdown",
   "id": "df3ff8fd",
   "metadata": {},
   "source": [
    "# Aim: To Predict Average Medicare Payment Amount Avg_Mdcr_Pymt_Amt"
   ]
  },
  {
   "cell_type": "markdown",
   "id": "a1ec35c9",
   "metadata": {},
   "source": [
    "Average of the Medicare allowed amount for the service. Medicare allowed amounts includes the amount Medicare pays, the deductible and coinsurance amounts that the beneficiary is responsible for paying, and any amounts that a third party is responsible for paying"
   ]
  },
  {
   "cell_type": "markdown",
   "id": "79611fec",
   "metadata": {},
   "source": [
    "# Import Libraries"
   ]
  },
  {
   "cell_type": "code",
   "execution_count": 1,
   "id": "af65c1a8",
   "metadata": {},
   "outputs": [],
   "source": [
    "import pandas as pd\n",
    "\n",
    "# Pandas:- It is Dataframe Based operation library for Read,Write,Reshape,Concat,Resample and some Data Funations..etc. \n",
    "#          Default in Dataframe Row are Observations And Columns are Variables in Table Like Excel.\n",
    "\n",
    "import numpy as np\n",
    "\n",
    "# Numapy :- Array/List Based operation for all compitation and Calculations perford from this Library Some Sub libararies in \n",
    "#           Numpay 1).Scipy.stats for statistics 2).Statsmodel for timeseries 3).Skleran for Machine learning.\n",
    "\n",
    "import matplotlib.pyplot as plt\n",
    "\n",
    "# Matplotlib.pyplot:- Viaulaziation library for Creating Charts and most insights window plots ,Create Lables,Titles...etc\n",
    "\n",
    "import seaborn as sns\n",
    "\n",
    "# Seaborn :- Seaborn is a Python data visualization library based on Matplotlib that provides a high-level interface for \n",
    "#            creating informative and aesthetically pleasing statistical graphics.\n",
    "\n",
    "%matplotlib inline\n",
    "\n",
    "import warnings\n",
    "warnings.filterwarnings('ignore')\n",
    "\n",
    "# Warnings are ignored when ex\n",
    "\n",
    "import nltk # (NLP)--Natural Language Toolkit\n",
    "\n",
    "# NLTK is a leading platform for building Python programs to work with human language data. It provides easy-to-use \n",
    "# interfaces to over 50 corpora and lexical resources such as WordNet, along with a suite of text processing libraries \n",
    "# for classification, tokenization, stemming, tagging, parsing, and semantic reasoning, wrappers for industrial-strength \n",
    "# NLP libraries, and an active discussion forum.\n",
    "\n",
    "\n",
    "import re # (RE)--- Regular Expression\n",
    "\n",
    "# the functions in this module let you check if a particular string matches a given regular expression (or if a given \n",
    "# regular expression matches a particular string, which comes down to the same thing)."
   ]
  },
  {
   "cell_type": "markdown",
   "id": "3e34d4a2",
   "metadata": {},
   "source": [
    "# Finding Data Path"
   ]
  },
  {
   "cell_type": "code",
   "execution_count": 2,
   "id": "343de206",
   "metadata": {},
   "outputs": [
    {
     "name": "stdout",
     "output_type": "stream",
     "text": [
      "C:\\Users\\sujit\\Downloads\\PGA 26 datasets\\Medicare\n"
     ]
    }
   ],
   "source": [
    "import io\n",
    "\n",
    "# Io:- Input/Output library for setting up working directory.\n",
    "\n",
    "%cd \"D:\\projects\\medicare\""
   ]
  },
  {
   "cell_type": "markdown",
   "id": "23984a02",
   "metadata": {},
   "source": [
    "# Read Data"
   ]
  },
  {
   "cell_type": "code",
   "execution_count": 3,
   "id": "f9ebab41",
   "metadata": {},
   "outputs": [],
   "source": [
    "medicare=pd.read_csv(\"MUP_PHY_R22_P05_V10_D20_Geo.csv\",low_memory=False)"
   ]
  },
  {
   "cell_type": "markdown",
   "id": "69e32540",
   "metadata": {},
   "source": [
    "# About Data"
   ]
  },
  {
   "cell_type": "code",
   "execution_count": 4,
   "id": "eea9c896",
   "metadata": {},
   "outputs": [
    {
     "name": "stdout",
     "output_type": "stream",
     "text": [
      "<class 'pandas.core.frame.DataFrame'>\n",
      "RangeIndex: 268149 entries, 0 to 268148\n",
      "Data columns (total 15 columns):\n",
      " #   Column                 Non-Null Count   Dtype  \n",
      "---  ------                 --------------   -----  \n",
      " 0   Rndrng_Prvdr_Geo_Lvl   268149 non-null  object \n",
      " 1   Rndrng_Prvdr_Geo_Cd    255046 non-null  object \n",
      " 2   Rndrng_Prvdr_Geo_Desc  268134 non-null  object \n",
      " 3   HCPCS_Cd               268149 non-null  object \n",
      " 4   HCPCS_Desc             268149 non-null  object \n",
      " 5   HCPCS_Drug_Ind         268149 non-null  object \n",
      " 6   Place_Of_Srvc          268149 non-null  object \n",
      " 7   Tot_Rndrng_Prvdrs      268149 non-null  int64  \n",
      " 8   Tot_Benes              268149 non-null  int64  \n",
      " 9   Tot_Srvcs              268149 non-null  float64\n",
      " 10  Tot_Bene_Day_Srvcs     268149 non-null  int64  \n",
      " 11  Avg_Sbmtd_Chrg         268149 non-null  float64\n",
      " 12  Avg_Mdcr_Alowd_Amt     268149 non-null  float64\n",
      " 13  Avg_Mdcr_Pymt_Amt      268149 non-null  float64\n",
      " 14  Avg_Mdcr_Stdzd_Amt     268149 non-null  float64\n",
      "dtypes: float64(5), int64(3), object(7)\n",
      "memory usage: 30.7+ MB\n"
     ]
    }
   ],
   "source": [
    "medicare.info()"
   ]
  },
  {
   "cell_type": "markdown",
   "id": "a39a0129",
   "metadata": {},
   "source": [
    "# Print Strating 5 Rows"
   ]
  },
  {
   "cell_type": "code",
   "execution_count": 5,
   "id": "ac90397c",
   "metadata": {},
   "outputs": [
    {
     "data": {
      "text/html": [
       "<div>\n",
       "<style scoped>\n",
       "    .dataframe tbody tr th:only-of-type {\n",
       "        vertical-align: middle;\n",
       "    }\n",
       "\n",
       "    .dataframe tbody tr th {\n",
       "        vertical-align: top;\n",
       "    }\n",
       "\n",
       "    .dataframe thead th {\n",
       "        text-align: right;\n",
       "    }\n",
       "</style>\n",
       "<table border=\"1\" class=\"dataframe\">\n",
       "  <thead>\n",
       "    <tr style=\"text-align: right;\">\n",
       "      <th></th>\n",
       "      <th>Rndrng_Prvdr_Geo_Lvl</th>\n",
       "      <th>Rndrng_Prvdr_Geo_Cd</th>\n",
       "      <th>Rndrng_Prvdr_Geo_Desc</th>\n",
       "      <th>HCPCS_Cd</th>\n",
       "      <th>HCPCS_Desc</th>\n",
       "      <th>HCPCS_Drug_Ind</th>\n",
       "      <th>Place_Of_Srvc</th>\n",
       "      <th>Tot_Rndrng_Prvdrs</th>\n",
       "      <th>Tot_Benes</th>\n",
       "      <th>Tot_Srvcs</th>\n",
       "      <th>Tot_Bene_Day_Srvcs</th>\n",
       "      <th>Avg_Sbmtd_Chrg</th>\n",
       "      <th>Avg_Mdcr_Alowd_Amt</th>\n",
       "      <th>Avg_Mdcr_Pymt_Amt</th>\n",
       "      <th>Avg_Mdcr_Stdzd_Amt</th>\n",
       "    </tr>\n",
       "  </thead>\n",
       "  <tbody>\n",
       "    <tr>\n",
       "      <th>0</th>\n",
       "      <td>National</td>\n",
       "      <td>NaN</td>\n",
       "      <td>National</td>\n",
       "      <td>0001A</td>\n",
       "      <td>Adm sarscov2 30mcg/0.3ml 1st</td>\n",
       "      <td>N</td>\n",
       "      <td>F</td>\n",
       "      <td>10</td>\n",
       "      <td>86</td>\n",
       "      <td>86.0</td>\n",
       "      <td>86</td>\n",
       "      <td>32.988140</td>\n",
       "      <td>17.498140</td>\n",
       "      <td>17.498140</td>\n",
       "      <td>16.817674</td>\n",
       "    </tr>\n",
       "    <tr>\n",
       "      <th>1</th>\n",
       "      <td>National</td>\n",
       "      <td>NaN</td>\n",
       "      <td>National</td>\n",
       "      <td>0001A</td>\n",
       "      <td>Adm sarscov2 30mcg/0.3ml 1st</td>\n",
       "      <td>N</td>\n",
       "      <td>O</td>\n",
       "      <td>1809</td>\n",
       "      <td>159365</td>\n",
       "      <td>159385.0</td>\n",
       "      <td>159385</td>\n",
       "      <td>31.256701</td>\n",
       "      <td>16.787724</td>\n",
       "      <td>16.787724</td>\n",
       "      <td>16.624377</td>\n",
       "    </tr>\n",
       "    <tr>\n",
       "      <th>2</th>\n",
       "      <td>National</td>\n",
       "      <td>NaN</td>\n",
       "      <td>National</td>\n",
       "      <td>0002A</td>\n",
       "      <td>Adm sarscov2 30mcg/0.3ml 2nd</td>\n",
       "      <td>N</td>\n",
       "      <td>O</td>\n",
       "      <td>53</td>\n",
       "      <td>279</td>\n",
       "      <td>279.0</td>\n",
       "      <td>279</td>\n",
       "      <td>66.476595</td>\n",
       "      <td>28.183763</td>\n",
       "      <td>28.183763</td>\n",
       "      <td>27.927168</td>\n",
       "    </tr>\n",
       "    <tr>\n",
       "      <th>3</th>\n",
       "      <td>National</td>\n",
       "      <td>NaN</td>\n",
       "      <td>National</td>\n",
       "      <td>0003M</td>\n",
       "      <td>Liver dis 10 assays w/nash</td>\n",
       "      <td>N</td>\n",
       "      <td>O</td>\n",
       "      <td>14</td>\n",
       "      <td>88</td>\n",
       "      <td>88.0</td>\n",
       "      <td>88</td>\n",
       "      <td>572.583864</td>\n",
       "      <td>453.142955</td>\n",
       "      <td>451.136136</td>\n",
       "      <td>485.021591</td>\n",
       "    </tr>\n",
       "    <tr>\n",
       "      <th>4</th>\n",
       "      <td>National</td>\n",
       "      <td>NaN</td>\n",
       "      <td>National</td>\n",
       "      <td>0005U</td>\n",
       "      <td>Test for detecting genes associated with prost...</td>\n",
       "      <td>N</td>\n",
       "      <td>O</td>\n",
       "      <td>1</td>\n",
       "      <td>4886</td>\n",
       "      <td>4939.0</td>\n",
       "      <td>4939</td>\n",
       "      <td>795.000000</td>\n",
       "      <td>755.012104</td>\n",
       "      <td>755.012104</td>\n",
       "      <td>744.999231</td>\n",
       "    </tr>\n",
       "  </tbody>\n",
       "</table>\n",
       "</div>"
      ],
      "text/plain": [
       "  Rndrng_Prvdr_Geo_Lvl Rndrng_Prvdr_Geo_Cd Rndrng_Prvdr_Geo_Desc HCPCS_Cd  \\\n",
       "0             National                 NaN              National    0001A   \n",
       "1             National                 NaN              National    0001A   \n",
       "2             National                 NaN              National    0002A   \n",
       "3             National                 NaN              National    0003M   \n",
       "4             National                 NaN              National    0005U   \n",
       "\n",
       "                                          HCPCS_Desc HCPCS_Drug_Ind  \\\n",
       "0                       Adm sarscov2 30mcg/0.3ml 1st              N   \n",
       "1                       Adm sarscov2 30mcg/0.3ml 1st              N   \n",
       "2                       Adm sarscov2 30mcg/0.3ml 2nd              N   \n",
       "3                         Liver dis 10 assays w/nash              N   \n",
       "4  Test for detecting genes associated with prost...              N   \n",
       "\n",
       "  Place_Of_Srvc  Tot_Rndrng_Prvdrs  Tot_Benes  Tot_Srvcs  Tot_Bene_Day_Srvcs  \\\n",
       "0             F                 10         86       86.0                  86   \n",
       "1             O               1809     159365   159385.0              159385   \n",
       "2             O                 53        279      279.0                 279   \n",
       "3             O                 14         88       88.0                  88   \n",
       "4             O                  1       4886     4939.0                4939   \n",
       "\n",
       "   Avg_Sbmtd_Chrg  Avg_Mdcr_Alowd_Amt  Avg_Mdcr_Pymt_Amt  Avg_Mdcr_Stdzd_Amt  \n",
       "0       32.988140           17.498140          17.498140           16.817674  \n",
       "1       31.256701           16.787724          16.787724           16.624377  \n",
       "2       66.476595           28.183763          28.183763           27.927168  \n",
       "3      572.583864          453.142955         451.136136          485.021591  \n",
       "4      795.000000          755.012104         755.012104          744.999231  "
      ]
     },
     "execution_count": 5,
     "metadata": {},
     "output_type": "execute_result"
    }
   ],
   "source": [
    "medicare.head()"
   ]
  },
  {
   "cell_type": "markdown",
   "id": "ede4e168",
   "metadata": {},
   "source": [
    "## Data Preprocessing"
   ]
  },
  {
   "cell_type": "markdown",
   "id": "d298126b",
   "metadata": {},
   "source": [
    "## Finding Missing Values"
   ]
  },
  {
   "cell_type": "code",
   "execution_count": 6,
   "id": "9fc00529",
   "metadata": {
    "scrolled": true
   },
   "outputs": [
    {
     "data": {
      "text/plain": [
       "NaN    13103\n",
       "06      8843\n",
       "12      8353\n",
       "48      8079\n",
       "36      7663\n",
       "42      7132\n",
       "39      6702\n",
       "17      6694\n",
       "37      6587\n",
       "34      6286\n",
       "26      6239\n",
       "13      6135\n",
       "25      6095\n",
       "51      6075\n",
       "04      6006\n",
       "47      5952\n",
       "24      5866\n",
       "53      5766\n",
       "18      5656\n",
       "29      5649\n",
       "27      5509\n",
       "08      5380\n",
       "01      5253\n",
       "55      5235\n",
       "45      5194\n",
       "40      5028\n",
       "22      4975\n",
       "20      4831\n",
       "21      4805\n",
       "41      4616\n",
       "09      4472\n",
       "28      4388\n",
       "05      4382\n",
       "19      4369\n",
       "32      4252\n",
       "49      4183\n",
       "31      4007\n",
       "35      3577\n",
       "54      3479\n",
       "16      3294\n",
       "33      3282\n",
       "23      3219\n",
       "46      3185\n",
       "10      3110\n",
       "30      2996\n",
       "44      2897\n",
       "38      2843\n",
       "11      2835\n",
       "15      2829\n",
       "02      2239\n",
       "56      2183\n",
       "72      2034\n",
       "50      2027\n",
       "66       660\n",
       "78       639\n",
       "9E       295\n",
       "9D       207\n",
       "9B       183\n",
       "9A       160\n",
       "9C       122\n",
       "69        89\n",
       "60         5\n",
       "Name: Rndrng_Prvdr_Geo_Cd, dtype: int64"
      ]
     },
     "execution_count": 6,
     "metadata": {},
     "output_type": "execute_result"
    }
   ],
   "source": [
    "pd.set_option('display.max_rows',62)\n",
    "medicare.Rndrng_Prvdr_Geo_Cd.value_counts(dropna=False)"
   ]
  },
  {
   "cell_type": "code",
   "execution_count": 7,
   "id": "a760a72c",
   "metadata": {},
   "outputs": [
    {
     "data": {
      "text/plain": [
       "National                              13088\n",
       "California                             8843\n",
       "Florida                                8353\n",
       "Texas                                  8079\n",
       "New York                               7663\n",
       "                                      ...  \n",
       "Armed Forces Central/South America      160\n",
       "Armed Forces Pacific                    122\n",
       "Northern Mariana Islands                 89\n",
       "NaN                                      15\n",
       "American Samoa                            5\n",
       "Name: Rndrng_Prvdr_Geo_Desc, Length: 63, dtype: int64"
      ]
     },
     "execution_count": 7,
     "metadata": {},
     "output_type": "execute_result"
    }
   ],
   "source": [
    "medicare.Rndrng_Prvdr_Geo_Desc.value_counts(dropna=False)"
   ]
  },
  {
   "cell_type": "code",
   "execution_count": 8,
   "id": "c8137cd3",
   "metadata": {},
   "outputs": [
    {
     "data": {
      "text/plain": [
       "Rndrng_Prvdr_Geo_Cd      13103\n",
       "Rndrng_Prvdr_Geo_Desc       15\n",
       "Rndrng_Prvdr_Geo_Lvl         0\n",
       "HCPCS_Cd                     0\n",
       "HCPCS_Desc                   0\n",
       "HCPCS_Drug_Ind               0\n",
       "Place_Of_Srvc                0\n",
       "Tot_Rndrng_Prvdrs            0\n",
       "Tot_Benes                    0\n",
       "Tot_Srvcs                    0\n",
       "Tot_Bene_Day_Srvcs           0\n",
       "Avg_Sbmtd_Chrg               0\n",
       "Avg_Mdcr_Alowd_Amt           0\n",
       "Avg_Mdcr_Pymt_Amt            0\n",
       "Avg_Mdcr_Stdzd_Amt           0\n",
       "dtype: int64"
      ]
     },
     "execution_count": 8,
     "metadata": {},
     "output_type": "execute_result"
    }
   ],
   "source": [
    "medicare.isnull().sum().sort_values(ascending=False)"
   ]
  },
  {
   "cell_type": "markdown",
   "id": "d71c2b7d",
   "metadata": {},
   "source": [
    "# Imputation"
   ]
  },
  {
   "cell_type": "code",
   "execution_count": 9,
   "id": "9ac0d4e2",
   "metadata": {},
   "outputs": [],
   "source": [
    "medicare.Rndrng_Prvdr_Geo_Cd=medicare.Rndrng_Prvdr_Geo_Cd.fillna(\"Missing\")\n",
    "\n",
    "# More then 70% missing values impute with missing word"
   ]
  },
  {
   "cell_type": "code",
   "execution_count": 10,
   "id": "d6cb5145",
   "metadata": {},
   "outputs": [],
   "source": [
    "medicare.Rndrng_Prvdr_Geo_Desc=medicare.Rndrng_Prvdr_Geo_Desc.fillna(\n",
    "    medicare.Rndrng_Prvdr_Geo_Desc.value_counts().idxmax())\n",
    "\n",
    "# Less then 70% missing Values impute with idxmax(Mode)"
   ]
  },
  {
   "cell_type": "markdown",
   "id": "21184dfe",
   "metadata": {},
   "source": [
    "# Hypothesis Testing:"
   ]
  },
  {
   "cell_type": "markdown",
   "id": "ce64549a",
   "metadata": {},
   "source": [
    "# Inferential Statistics:"
   ]
  },
  {
   "cell_type": "markdown",
   "id": "d0206448",
   "metadata": {},
   "source": [
    "#### Statical interface method of validate particuar hypothise using given data"
   ]
  },
  {
   "cell_type": "markdown",
   "id": "f930d14a",
   "metadata": {},
   "source": [
    "# Group by"
   ]
  },
  {
   "cell_type": "markdown",
   "id": "582b6c4b",
   "metadata": {},
   "source": [
    "Two Sample Independent Ttest"
   ]
  },
  {
   "cell_type": "code",
   "execution_count": 11,
   "id": "5f8a241b",
   "metadata": {},
   "outputs": [],
   "source": [
    "from scipy.stats import ttest_ind # Only 2classes/levels"
   ]
  },
  {
   "cell_type": "markdown",
   "id": "7fcd2e70",
   "metadata": {},
   "source": [
    "1.Test Null : There is Significant difference in the average of Avg_Mdcr_Pymt_Amt and Rndrng_Prvdr_Geo_Lvl"
   ]
  },
  {
   "cell_type": "code",
   "execution_count": 12,
   "id": "f5105f2c",
   "metadata": {},
   "outputs": [
    {
     "data": {
      "text/plain": [
       "HCPCS_Drug_Ind\n",
       "N    238.029301\n",
       "Y    165.110441\n",
       "Name: Avg_Mdcr_Pymt_Amt, dtype: float64"
      ]
     },
     "execution_count": 12,
     "metadata": {},
     "output_type": "execute_result"
    }
   ],
   "source": [
    "medicare.Avg_Mdcr_Pymt_Amt.groupby(medicare.HCPCS_Drug_Ind).mean()"
   ]
  },
  {
   "cell_type": "code",
   "execution_count": 13,
   "id": "a2a3d3f9",
   "metadata": {},
   "outputs": [],
   "source": [
    "# split classes\n",
    "\n",
    "y=medicare[medicare.HCPCS_Drug_Ind=='Y']\n",
    "n=medicare[medicare.HCPCS_Drug_Ind=='N']"
   ]
  },
  {
   "cell_type": "code",
   "execution_count": 14,
   "id": "8af7d7b3",
   "metadata": {},
   "outputs": [
    {
     "data": {
      "text/plain": [
       "Ttest_indResult(statistic=-4.230111646001085, pvalue=2.352591533843008e-05)"
      ]
     },
     "execution_count": 14,
     "metadata": {},
     "output_type": "execute_result"
    }
   ],
   "source": [
    "ttest_ind(y.Avg_Mdcr_Pymt_Amt,n.Avg_Mdcr_Pymt_Amt,equal_var=False)\n",
    "\n",
    "# since pvalue=2.352591533843008e-05 is less than 0.05,Reject Null"
   ]
  },
  {
   "cell_type": "markdown",
   "id": "0de1e341",
   "metadata": {},
   "source": [
    "2.Test Null : There is Significant difference in the average of Avg_Mdcr_Pymt_Amt and Rndrng_Prvdr_Geo_Lvl"
   ]
  },
  {
   "cell_type": "code",
   "execution_count": 15,
   "id": "9ab53700",
   "metadata": {},
   "outputs": [
    {
     "data": {
      "text/plain": [
       "State       255061\n",
       "National     13088\n",
       "Name: Rndrng_Prvdr_Geo_Lvl, dtype: int64"
      ]
     },
     "execution_count": 15,
     "metadata": {},
     "output_type": "execute_result"
    }
   ],
   "source": [
    "medicare.Rndrng_Prvdr_Geo_Lvl.value_counts()"
   ]
  },
  {
   "cell_type": "code",
   "execution_count": 16,
   "id": "ffb94225",
   "metadata": {},
   "outputs": [
    {
     "data": {
      "text/plain": [
       "Rndrng_Prvdr_Geo_Lvl\n",
       "National    324.770801\n",
       "State       230.066754\n",
       "Name: Avg_Mdcr_Pymt_Amt, dtype: float64"
      ]
     },
     "execution_count": 16,
     "metadata": {},
     "output_type": "execute_result"
    }
   ],
   "source": [
    "medicare.Avg_Mdcr_Pymt_Amt.groupby(medicare.Rndrng_Prvdr_Geo_Lvl).mean()"
   ]
  },
  {
   "cell_type": "code",
   "execution_count": 17,
   "id": "c66bda5b",
   "metadata": {},
   "outputs": [],
   "source": [
    "# Split classes\n",
    "\n",
    "state=medicare[medicare.Rndrng_Prvdr_Geo_Lvl=='State']\n",
    "national=medicare[medicare.Rndrng_Prvdr_Geo_Lvl=='National']"
   ]
  },
  {
   "cell_type": "code",
   "execution_count": 18,
   "id": "3cbbe466",
   "metadata": {},
   "outputs": [
    {
     "data": {
      "text/plain": [
       "Ttest_indResult(statistic=-16.66613497725422, pvalue=8.775249194770759e-62)"
      ]
     },
     "execution_count": 18,
     "metadata": {},
     "output_type": "execute_result"
    }
   ],
   "source": [
    "ttest_ind(state.Avg_Mdcr_Pymt_Amt,national.Avg_Mdcr_Pymt_Amt,equal_var=False)\n",
    "\n",
    "# since pvalue=8.775249194770759e-62 is less than 0.05,Reject Null"
   ]
  },
  {
   "cell_type": "markdown",
   "id": "9d4d530c",
   "metadata": {},
   "source": [
    "3.Test Null : There is Significant difference in the average of Avg_Mdcr_Pymt_Amt and Place_Of_Sercs"
   ]
  },
  {
   "cell_type": "code",
   "execution_count": 19,
   "id": "6ad4cb98",
   "metadata": {},
   "outputs": [
    {
     "data": {
      "text/plain": [
       "Place_Of_Srvc\n",
       "F    294.058659\n",
       "O    166.146023\n",
       "Name: Avg_Mdcr_Pymt_Amt, dtype: float64"
      ]
     },
     "execution_count": 19,
     "metadata": {},
     "output_type": "execute_result"
    }
   ],
   "source": [
    "medicare.Avg_Mdcr_Pymt_Amt.groupby(medicare.Place_Of_Srvc).mean()"
   ]
  },
  {
   "cell_type": "code",
   "execution_count": 20,
   "id": "6eb34b52",
   "metadata": {},
   "outputs": [],
   "source": [
    "# Split Classes\n",
    "\n",
    "f=medicare[medicare.Place_Of_Srvc=='F']\n",
    "o=medicare[medicare.Place_Of_Srvc=='O']"
   ]
  },
  {
   "cell_type": "code",
   "execution_count": 21,
   "id": "ebebb95d",
   "metadata": {},
   "outputs": [
    {
     "data": {
      "text/plain": [
       "Ttest_indResult(statistic=51.76681036972862, pvalue=0.0)"
      ]
     },
     "execution_count": 21,
     "metadata": {},
     "output_type": "execute_result"
    }
   ],
   "source": [
    "ttest_ind(f.Avg_Mdcr_Pymt_Amt,o.Avg_Mdcr_Pymt_Amt,equal_var=False)\n",
    "\n",
    "# since pvalue=0.0 is less than 0.05,Reject Null"
   ]
  },
  {
   "cell_type": "markdown",
   "id": "d9f53ddf",
   "metadata": {},
   "source": [
    "# Chi-Square Test of Independence:"
   ]
  },
  {
   "cell_type": "code",
   "execution_count": 22,
   "id": "25c82256",
   "metadata": {},
   "outputs": [],
   "source": [
    "from scipy.stats import chi2_contingency # Test between Two Catgorical variables"
   ]
  },
  {
   "cell_type": "markdown",
   "id": "bb7f33e7",
   "metadata": {},
   "source": [
    "1.Test Null No Association between HCPCS_Drug_Ind & Place_Of_Srvc"
   ]
  },
  {
   "cell_type": "code",
   "execution_count": 23,
   "id": "35603b4b",
   "metadata": {},
   "outputs": [
    {
     "data": {
      "text/html": [
       "<div>\n",
       "<style scoped>\n",
       "    .dataframe tbody tr th:only-of-type {\n",
       "        vertical-align: middle;\n",
       "    }\n",
       "\n",
       "    .dataframe tbody tr th {\n",
       "        vertical-align: top;\n",
       "    }\n",
       "\n",
       "    .dataframe thead th {\n",
       "        text-align: right;\n",
       "    }\n",
       "</style>\n",
       "<table border=\"1\" class=\"dataframe\">\n",
       "  <thead>\n",
       "    <tr style=\"text-align: right;\">\n",
       "      <th>Place_Of_Srvc</th>\n",
       "      <th>F</th>\n",
       "      <th>O</th>\n",
       "    </tr>\n",
       "    <tr>\n",
       "      <th>HCPCS_Drug_Ind</th>\n",
       "      <th></th>\n",
       "      <th></th>\n",
       "    </tr>\n",
       "  </thead>\n",
       "  <tbody>\n",
       "    <tr>\n",
       "      <th>N</th>\n",
       "      <td>143316</td>\n",
       "      <td>112550</td>\n",
       "    </tr>\n",
       "    <tr>\n",
       "      <th>Y</th>\n",
       "      <td>374</td>\n",
       "      <td>11909</td>\n",
       "    </tr>\n",
       "  </tbody>\n",
       "</table>\n",
       "</div>"
      ],
      "text/plain": [
       "Place_Of_Srvc        F       O\n",
       "HCPCS_Drug_Ind                \n",
       "N               143316  112550\n",
       "Y                  374   11909"
      ]
     },
     "execution_count": 23,
     "metadata": {},
     "output_type": "execute_result"
    }
   ],
   "source": [
    "pd.crosstab(medicare.HCPCS_Drug_Ind,medicare.Place_Of_Srvc)"
   ]
  },
  {
   "cell_type": "code",
   "execution_count": 24,
   "id": "0c129027",
   "metadata": {},
   "outputs": [
    {
     "data": {
      "text/plain": [
       "Chi2ContingencyResult(statistic=13218.60491351658, pvalue=0.0, dof=1, expected_freq=array([[137108.04642195, 118757.95357805],\n",
       "       [  6581.95357805,   5701.04642195]]))"
      ]
     },
     "execution_count": 24,
     "metadata": {},
     "output_type": "execute_result"
    }
   ],
   "source": [
    "chi2_contingency(pd.crosstab(medicare.HCPCS_Drug_Ind,medicare.Place_Of_Srvc))\n",
    "\n",
    "# Since pvalue=0.0 is less then 0.05, Reject Null"
   ]
  },
  {
   "cell_type": "markdown",
   "id": "3e88d77b",
   "metadata": {},
   "source": [
    "2.Test Null No Association between HCPCS_Drug_Ind & Rndrng_Prvdr_Geo_Lvl"
   ]
  },
  {
   "cell_type": "code",
   "execution_count": 25,
   "id": "e70c9b5b",
   "metadata": {},
   "outputs": [
    {
     "data": {
      "text/html": [
       "<div>\n",
       "<style scoped>\n",
       "    .dataframe tbody tr th:only-of-type {\n",
       "        vertical-align: middle;\n",
       "    }\n",
       "\n",
       "    .dataframe tbody tr th {\n",
       "        vertical-align: top;\n",
       "    }\n",
       "\n",
       "    .dataframe thead th {\n",
       "        text-align: right;\n",
       "    }\n",
       "</style>\n",
       "<table border=\"1\" class=\"dataframe\">\n",
       "  <thead>\n",
       "    <tr style=\"text-align: right;\">\n",
       "      <th>Rndrng_Prvdr_Geo_Lvl</th>\n",
       "      <th>National</th>\n",
       "      <th>State</th>\n",
       "    </tr>\n",
       "    <tr>\n",
       "      <th>HCPCS_Drug_Ind</th>\n",
       "      <th></th>\n",
       "      <th></th>\n",
       "    </tr>\n",
       "  </thead>\n",
       "  <tbody>\n",
       "    <tr>\n",
       "      <th>N</th>\n",
       "      <td>12511</td>\n",
       "      <td>243355</td>\n",
       "    </tr>\n",
       "    <tr>\n",
       "      <th>Y</th>\n",
       "      <td>577</td>\n",
       "      <td>11706</td>\n",
       "    </tr>\n",
       "  </tbody>\n",
       "</table>\n",
       "</div>"
      ],
      "text/plain": [
       "Rndrng_Prvdr_Geo_Lvl  National   State\n",
       "HCPCS_Drug_Ind                        \n",
       "N                        12511  243355\n",
       "Y                          577   11706"
      ]
     },
     "execution_count": 25,
     "metadata": {},
     "output_type": "execute_result"
    }
   ],
   "source": [
    "pd.crosstab(medicare.HCPCS_Drug_Ind,medicare.Rndrng_Prvdr_Geo_Lvl)"
   ]
  },
  {
   "cell_type": "code",
   "execution_count": 26,
   "id": "815097c1",
   "metadata": {},
   "outputs": [
    {
     "data": {
      "text/plain": [
       "Chi2ContingencyResult(statistic=0.8908680659992385, pvalue=0.3452421786500288, dof=1, expected_freq=array([[ 12488.48292554, 243377.51707446],\n",
       "       [   599.51707446,  11683.48292554]]))"
      ]
     },
     "execution_count": 26,
     "metadata": {},
     "output_type": "execute_result"
    }
   ],
   "source": [
    "chi2_contingency(pd.crosstab(medicare.HCPCS_Drug_Ind,medicare.Rndrng_Prvdr_Geo_Lvl))\n",
    "\n",
    "# Since pvalue=0.34524217865002880 is grater then 0.05, Fail to Reject Null"
   ]
  },
  {
   "cell_type": "markdown",
   "id": "f9efe9ec",
   "metadata": {},
   "source": [
    "2.Test Null No Association between Place_Of_Srvc & Rndrng_Prvdr_Geo_Lvl"
   ]
  },
  {
   "cell_type": "code",
   "execution_count": 27,
   "id": "643aec76",
   "metadata": {},
   "outputs": [
    {
     "data": {
      "text/html": [
       "<div>\n",
       "<style scoped>\n",
       "    .dataframe tbody tr th:only-of-type {\n",
       "        vertical-align: middle;\n",
       "    }\n",
       "\n",
       "    .dataframe tbody tr th {\n",
       "        vertical-align: top;\n",
       "    }\n",
       "\n",
       "    .dataframe thead th {\n",
       "        text-align: right;\n",
       "    }\n",
       "</style>\n",
       "<table border=\"1\" class=\"dataframe\">\n",
       "  <thead>\n",
       "    <tr style=\"text-align: right;\">\n",
       "      <th>Rndrng_Prvdr_Geo_Lvl</th>\n",
       "      <th>National</th>\n",
       "      <th>State</th>\n",
       "    </tr>\n",
       "    <tr>\n",
       "      <th>Place_Of_Srvc</th>\n",
       "      <th></th>\n",
       "      <th></th>\n",
       "    </tr>\n",
       "  </thead>\n",
       "  <tbody>\n",
       "    <tr>\n",
       "      <th>F</th>\n",
       "      <td>7008</td>\n",
       "      <td>136682</td>\n",
       "    </tr>\n",
       "    <tr>\n",
       "      <th>O</th>\n",
       "      <td>6080</td>\n",
       "      <td>118379</td>\n",
       "    </tr>\n",
       "  </tbody>\n",
       "</table>\n",
       "</div>"
      ],
      "text/plain": [
       "Rndrng_Prvdr_Geo_Lvl  National   State\n",
       "Place_Of_Srvc                         \n",
       "F                         7008  136682\n",
       "O                         6080  118379"
      ]
     },
     "execution_count": 27,
     "metadata": {},
     "output_type": "execute_result"
    }
   ],
   "source": [
    "pd.crosstab(medicare.Place_Of_Srvc,medicare.Rndrng_Prvdr_Geo_Lvl)"
   ]
  },
  {
   "cell_type": "code",
   "execution_count": 28,
   "id": "b77703f8",
   "metadata": {},
   "outputs": [
    {
     "data": {
      "text/plain": [
       "Chi2ContingencyResult(statistic=0.007503015424361353, pvalue=0.9309736091340755, dof=1, expected_freq=array([[  7013.31990796, 136676.68009204],\n",
       "       [  6074.68009204, 118384.31990796]]))"
      ]
     },
     "execution_count": 28,
     "metadata": {},
     "output_type": "execute_result"
    }
   ],
   "source": [
    "chi2_contingency(pd.crosstab(medicare.Place_Of_Srvc,medicare.Rndrng_Prvdr_Geo_Lvl))\n",
    "\n",
    "# Since pvalue=0.9309736091340755 is grater then 0.05, Fail to Reject Null"
   ]
  },
  {
   "cell_type": "markdown",
   "id": "f7666cd1",
   "metadata": {},
   "source": [
    "# Data Transformation / Spliting Catgorical and numaric Columns"
   ]
  },
  {
   "cell_type": "code",
   "execution_count": 29,
   "id": "377fad4d",
   "metadata": {},
   "outputs": [],
   "source": [
    "numcols=medicare.select_dtypes(include=np.number)\n",
    "objcols=medicare.select_dtypes(include=['object'])"
   ]
  },
  {
   "cell_type": "code",
   "execution_count": 30,
   "id": "5c0438b8",
   "metadata": {},
   "outputs": [
    {
     "data": {
      "text/html": [
       "<div>\n",
       "<style scoped>\n",
       "    .dataframe tbody tr th:only-of-type {\n",
       "        vertical-align: middle;\n",
       "    }\n",
       "\n",
       "    .dataframe tbody tr th {\n",
       "        vertical-align: top;\n",
       "    }\n",
       "\n",
       "    .dataframe thead th {\n",
       "        text-align: right;\n",
       "    }\n",
       "</style>\n",
       "<table border=\"1\" class=\"dataframe\">\n",
       "  <thead>\n",
       "    <tr style=\"text-align: right;\">\n",
       "      <th></th>\n",
       "      <th>Tot_Rndrng_Prvdrs</th>\n",
       "      <th>Tot_Benes</th>\n",
       "      <th>Tot_Srvcs</th>\n",
       "      <th>Tot_Bene_Day_Srvcs</th>\n",
       "      <th>Avg_Sbmtd_Chrg</th>\n",
       "      <th>Avg_Mdcr_Alowd_Amt</th>\n",
       "      <th>Avg_Mdcr_Pymt_Amt</th>\n",
       "      <th>Avg_Mdcr_Stdzd_Amt</th>\n",
       "    </tr>\n",
       "  </thead>\n",
       "  <tbody>\n",
       "    <tr>\n",
       "      <th>0</th>\n",
       "      <td>10</td>\n",
       "      <td>86</td>\n",
       "      <td>86.0</td>\n",
       "      <td>86</td>\n",
       "      <td>32.988140</td>\n",
       "      <td>17.498140</td>\n",
       "      <td>17.498140</td>\n",
       "      <td>16.817674</td>\n",
       "    </tr>\n",
       "    <tr>\n",
       "      <th>1</th>\n",
       "      <td>1809</td>\n",
       "      <td>159365</td>\n",
       "      <td>159385.0</td>\n",
       "      <td>159385</td>\n",
       "      <td>31.256701</td>\n",
       "      <td>16.787724</td>\n",
       "      <td>16.787724</td>\n",
       "      <td>16.624377</td>\n",
       "    </tr>\n",
       "    <tr>\n",
       "      <th>2</th>\n",
       "      <td>53</td>\n",
       "      <td>279</td>\n",
       "      <td>279.0</td>\n",
       "      <td>279</td>\n",
       "      <td>66.476595</td>\n",
       "      <td>28.183763</td>\n",
       "      <td>28.183763</td>\n",
       "      <td>27.927168</td>\n",
       "    </tr>\n",
       "    <tr>\n",
       "      <th>3</th>\n",
       "      <td>14</td>\n",
       "      <td>88</td>\n",
       "      <td>88.0</td>\n",
       "      <td>88</td>\n",
       "      <td>572.583864</td>\n",
       "      <td>453.142955</td>\n",
       "      <td>451.136136</td>\n",
       "      <td>485.021591</td>\n",
       "    </tr>\n",
       "    <tr>\n",
       "      <th>4</th>\n",
       "      <td>1</td>\n",
       "      <td>4886</td>\n",
       "      <td>4939.0</td>\n",
       "      <td>4939</td>\n",
       "      <td>795.000000</td>\n",
       "      <td>755.012104</td>\n",
       "      <td>755.012104</td>\n",
       "      <td>744.999231</td>\n",
       "    </tr>\n",
       "  </tbody>\n",
       "</table>\n",
       "</div>"
      ],
      "text/plain": [
       "   Tot_Rndrng_Prvdrs  Tot_Benes  Tot_Srvcs  Tot_Bene_Day_Srvcs  \\\n",
       "0                 10         86       86.0                  86   \n",
       "1               1809     159365   159385.0              159385   \n",
       "2                 53        279      279.0                 279   \n",
       "3                 14         88       88.0                  88   \n",
       "4                  1       4886     4939.0                4939   \n",
       "\n",
       "   Avg_Sbmtd_Chrg  Avg_Mdcr_Alowd_Amt  Avg_Mdcr_Pymt_Amt  Avg_Mdcr_Stdzd_Amt  \n",
       "0       32.988140           17.498140          17.498140           16.817674  \n",
       "1       31.256701           16.787724          16.787724           16.624377  \n",
       "2       66.476595           28.183763          28.183763           27.927168  \n",
       "3      572.583864          453.142955         451.136136          485.021591  \n",
       "4      795.000000          755.012104         755.012104          744.999231  "
      ]
     },
     "execution_count": 30,
     "metadata": {},
     "output_type": "execute_result"
    }
   ],
   "source": [
    "numcols.head()"
   ]
  },
  {
   "cell_type": "markdown",
   "id": "3c13b5fc",
   "metadata": {},
   "source": [
    "# Checking Multicolinarty"
   ]
  },
  {
   "cell_type": "code",
   "execution_count": 31,
   "id": "1f46047a",
   "metadata": {},
   "outputs": [
    {
     "data": {
      "image/png": "[encoded data removed]",
      "text/plain": [
       "<Figure size 2000x1000 with 2 Axes>"
      ]
     },
     "metadata": {},
     "output_type": "display_data"
    }
   ],
   "source": [
    "plt.figure(figsize=(20,10))\n",
    "sns.heatmap(numcols.corr(),annot=True,cmap=\"YlGnBu\",vmax=1,vmin=-1);\n",
    "\n",
    "# Some Variables have multicolinarty drop the variables based on there importence"
   ]
  },
  {
   "cell_type": "code",
   "execution_count": 32,
   "id": "d722ae27",
   "metadata": {},
   "outputs": [
    {
     "data": {
      "text/html": [
       "<div>\n",
       "<style scoped>\n",
       "    .dataframe tbody tr th:only-of-type {\n",
       "        vertical-align: middle;\n",
       "    }\n",
       "\n",
       "    .dataframe tbody tr th {\n",
       "        vertical-align: top;\n",
       "    }\n",
       "\n",
       "    .dataframe thead th {\n",
       "        text-align: right;\n",
       "    }\n",
       "</style>\n",
       "<table border=\"1\" class=\"dataframe\">\n",
       "  <thead>\n",
       "    <tr style=\"text-align: right;\">\n",
       "      <th></th>\n",
       "      <th>Tot_Rndrng_Prvdrs</th>\n",
       "      <th>Tot_Benes</th>\n",
       "      <th>Tot_Srvcs</th>\n",
       "      <th>Tot_Bene_Day_Srvcs</th>\n",
       "      <th>Avg_Sbmtd_Chrg</th>\n",
       "      <th>Avg_Mdcr_Alowd_Amt</th>\n",
       "      <th>Avg_Mdcr_Pymt_Amt</th>\n",
       "      <th>Avg_Mdcr_Stdzd_Amt</th>\n",
       "    </tr>\n",
       "  </thead>\n",
       "  <tbody>\n",
       "    <tr>\n",
       "      <th>count</th>\n",
       "      <td>268149.000000</td>\n",
       "      <td>2.681490e+05</td>\n",
       "      <td>2.681490e+05</td>\n",
       "      <td>2.681490e+05</td>\n",
       "      <td>268149.000000</td>\n",
       "      <td>268149.000000</td>\n",
       "      <td>268149.000000</td>\n",
       "      <td>268149.000000</td>\n",
       "    </tr>\n",
       "    <tr>\n",
       "      <th>mean</th>\n",
       "      <td>265.080384</td>\n",
       "      <td>5.102847e+03</td>\n",
       "      <td>2.217960e+04</td>\n",
       "      <td>9.813789e+03</td>\n",
       "      <td>1252.792807</td>\n",
       "      <td>294.650498</td>\n",
       "      <td>234.689134</td>\n",
       "      <td>231.083286</td>\n",
       "    </tr>\n",
       "    <tr>\n",
       "      <th>std</th>\n",
       "      <td>3217.362460</td>\n",
       "      <td>1.093134e+05</td>\n",
       "      <td>5.981873e+05</td>\n",
       "      <td>2.935606e+05</td>\n",
       "      <td>2377.146038</td>\n",
       "      <td>769.097482</td>\n",
       "      <td>615.856306</td>\n",
       "      <td>609.502225</td>\n",
       "    </tr>\n",
       "    <tr>\n",
       "      <th>min</th>\n",
       "      <td>1.000000</td>\n",
       "      <td>1.100000e+01</td>\n",
       "      <td>1.100000e+01</td>\n",
       "      <td>1.100000e+01</td>\n",
       "      <td>0.001320</td>\n",
       "      <td>0.001320</td>\n",
       "      <td>0.001320</td>\n",
       "      <td>0.001320</td>\n",
       "    </tr>\n",
       "    <tr>\n",
       "      <th>25%</th>\n",
       "      <td>12.000000</td>\n",
       "      <td>3.000000e+01</td>\n",
       "      <td>4.000000e+01</td>\n",
       "      <td>3.800000e+01</td>\n",
       "      <td>125.931769</td>\n",
       "      <td>36.354151</td>\n",
       "      <td>28.722222</td>\n",
       "      <td>28.524009</td>\n",
       "    </tr>\n",
       "    <tr>\n",
       "      <th>50%</th>\n",
       "      <td>29.000000</td>\n",
       "      <td>1.040000e+02</td>\n",
       "      <td>1.570000e+02</td>\n",
       "      <td>1.400000e+02</td>\n",
       "      <td>429.062275</td>\n",
       "      <td>114.713750</td>\n",
       "      <td>88.848148</td>\n",
       "      <td>87.745486</td>\n",
       "    </tr>\n",
       "    <tr>\n",
       "      <th>75%</th>\n",
       "      <td>95.000000</td>\n",
       "      <td>5.650000e+02</td>\n",
       "      <td>1.027000e+03</td>\n",
       "      <td>8.010000e+02</td>\n",
       "      <td>1551.450000</td>\n",
       "      <td>324.139231</td>\n",
       "      <td>257.895263</td>\n",
       "      <td>255.125000</td>\n",
       "    </tr>\n",
       "    <tr>\n",
       "      <th>max</th>\n",
       "      <td>581706.000000</td>\n",
       "      <td>2.179407e+07</td>\n",
       "      <td>1.221294e+08</td>\n",
       "      <td>8.171052e+07</td>\n",
       "      <td>92910.466667</td>\n",
       "      <td>50821.879118</td>\n",
       "      <td>40603.953941</td>\n",
       "      <td>40010.077882</td>\n",
       "    </tr>\n",
       "  </tbody>\n",
       "</table>\n",
       "</div>"
      ],
      "text/plain": [
       "       Tot_Rndrng_Prvdrs     Tot_Benes     Tot_Srvcs  Tot_Bene_Day_Srvcs  \\\n",
       "count      268149.000000  2.681490e+05  2.681490e+05        2.681490e+05   \n",
       "mean          265.080384  5.102847e+03  2.217960e+04        9.813789e+03   \n",
       "std          3217.362460  1.093134e+05  5.981873e+05        2.935606e+05   \n",
       "min             1.000000  1.100000e+01  1.100000e+01        1.100000e+01   \n",
       "25%            12.000000  3.000000e+01  4.000000e+01        3.800000e+01   \n",
       "50%            29.000000  1.040000e+02  1.570000e+02        1.400000e+02   \n",
       "75%            95.000000  5.650000e+02  1.027000e+03        8.010000e+02   \n",
       "max        581706.000000  2.179407e+07  1.221294e+08        8.171052e+07   \n",
       "\n",
       "       Avg_Sbmtd_Chrg  Avg_Mdcr_Alowd_Amt  Avg_Mdcr_Pymt_Amt  \\\n",
       "count   268149.000000       268149.000000      268149.000000   \n",
       "mean      1252.792807          294.650498         234.689134   \n",
       "std       2377.146038          769.097482         615.856306   \n",
       "min          0.001320            0.001320           0.001320   \n",
       "25%        125.931769           36.354151          28.722222   \n",
       "50%        429.062275          114.713750          88.848148   \n",
       "75%       1551.450000          324.139231         257.895263   \n",
       "max      92910.466667        50821.879118       40603.953941   \n",
       "\n",
       "       Avg_Mdcr_Stdzd_Amt  \n",
       "count       268149.000000  \n",
       "mean           231.083286  \n",
       "std            609.502225  \n",
       "min              0.001320  \n",
       "25%             28.524009  \n",
       "50%             87.745486  \n",
       "75%            255.125000  \n",
       "max          40010.077882  "
      ]
     },
     "execution_count": 32,
     "metadata": {},
     "output_type": "execute_result"
    }
   ],
   "source": [
    "numcols.describe()"
   ]
  },
  {
   "cell_type": "markdown",
   "id": "881abd35",
   "metadata": {},
   "source": [
    "# 'Skewness' and 'Kurtosis' - Metrics for understanding the Data distribution :"
   ]
  },
  {
   "cell_type": "markdown",
   "id": "65c911a8",
   "metadata": {},
   "source": [
    "Skewness : It is the Measure of Assymetry of the Curve"
   ]
  },
  {
   "cell_type": "markdown",
   "id": "0103d823",
   "metadata": {},
   "source": [
    "If the skewness is between -0.5 & 0.5, the data are nearly symmetrical."
   ]
  },
  {
   "cell_type": "markdown",
   "id": "e2cf308a",
   "metadata": {},
   "source": [
    "If the skewness is between -1 & -0.5 (negative skewed) or between 0.5 & 1(positive skewed), the data are slightly skewed."
   ]
  },
  {
   "cell_type": "markdown",
   "id": "16d167af",
   "metadata": {},
   "source": [
    "If the skewness is lower than -1 (negative skewed) or greater than 1 (positive skewed), the data are extremely skewed."
   ]
  },
  {
   "cell_type": "markdown",
   "id": "b940ba99",
   "metadata": {},
   "source": [
    "# Kurtosis : The height of the Distribution Curve with respect to Normal Distribution"
   ]
  },
  {
   "cell_type": "markdown",
   "id": "4605e1e3",
   "metadata": {},
   "source": [
    "It tells us if the data is heavy or light tailed relative to a normal distribution.\n",
    "Kurtosis range from -10 to +10."
   ]
  },
  {
   "cell_type": "code",
   "execution_count": 33,
   "id": "a4e701c4",
   "metadata": {},
   "outputs": [
    {
     "data": {
      "text/plain": [
       "<Axes: ylabel='Density'>"
      ]
     },
     "execution_count": 33,
     "metadata": {},
     "output_type": "execute_result"
    },
    {
     "data": {
      "image/png": "[encoded data removed]",
      "text/plain": [
       "<Figure size 640x480 with 1 Axes>"
      ]
     },
     "metadata": {},
     "output_type": "display_data"
    }
   ],
   "source": [
    "numcols.Avg_Mdcr_Pymt_Amt.plot(kind='density')"
   ]
  },
  {
   "cell_type": "code",
   "execution_count": 34,
   "id": "05b46753",
   "metadata": {},
   "outputs": [
    {
     "name": "stdout",
     "output_type": "stream",
     "text": [
      "Skewness: 30.230227910965553\n",
      "Kurtosis: 1636.7613012812824\n"
     ]
    }
   ],
   "source": [
    "print('Skewness:',numcols.Avg_Mdcr_Pymt_Amt.skew())\n",
    "print('Kurtosis:',numcols.Avg_Mdcr_Pymt_Amt.kurt())"
   ]
  },
  {
   "cell_type": "code",
   "execution_count": 35,
   "id": "921caf10",
   "metadata": {},
   "outputs": [
    {
     "data": {
      "text/plain": [
       "<Axes: ylabel='Density'>"
      ]
     },
     "execution_count": 35,
     "metadata": {},
     "output_type": "execute_result"
    },
    {
     "data": {
      "image/png": "[encoded data removed]",
      "text/plain": [
       "<Figure size 640x480 with 1 Axes>"
      ]
     },
     "metadata": {},
     "output_type": "display_data"
    }
   ],
   "source": [
    "np.log(numcols.Avg_Mdcr_Pymt_Amt).plot(kind='density')"
   ]
  },
  {
   "cell_type": "code",
   "execution_count": 36,
   "id": "e5da4885",
   "metadata": {},
   "outputs": [
    {
     "name": "stdout",
     "output_type": "stream",
     "text": [
      "Skewness: -0.6135549784940002\n",
      "Kurtosis: 1.3767100728222368\n"
     ]
    }
   ],
   "source": [
    "print('Skewness:',np.log(numcols.Avg_Mdcr_Pymt_Amt).skew())\n",
    "print('Kurtosis:',np.log(numcols.Avg_Mdcr_Pymt_Amt).kurt())"
   ]
  },
  {
   "cell_type": "code",
   "execution_count": 37,
   "id": "a82d3544",
   "metadata": {},
   "outputs": [],
   "source": [
    "numcols=numcols.drop(['Avg_Mdcr_Alowd_Amt','Avg_Mdcr_Stdzd_Amt'],axis=1)"
   ]
  },
  {
   "cell_type": "code",
   "execution_count": 38,
   "id": "4cdf1b96",
   "metadata": {},
   "outputs": [
    {
     "data": {
      "text/html": [
       "<div>\n",
       "<style scoped>\n",
       "    .dataframe tbody tr th:only-of-type {\n",
       "        vertical-align: middle;\n",
       "    }\n",
       "\n",
       "    .dataframe tbody tr th {\n",
       "        vertical-align: top;\n",
       "    }\n",
       "\n",
       "    .dataframe thead th {\n",
       "        text-align: right;\n",
       "    }\n",
       "</style>\n",
       "<table border=\"1\" class=\"dataframe\">\n",
       "  <thead>\n",
       "    <tr style=\"text-align: right;\">\n",
       "      <th></th>\n",
       "      <th>Rndrng_Prvdr_Geo_Lvl</th>\n",
       "      <th>Rndrng_Prvdr_Geo_Cd</th>\n",
       "      <th>Rndrng_Prvdr_Geo_Desc</th>\n",
       "      <th>HCPCS_Cd</th>\n",
       "      <th>HCPCS_Desc</th>\n",
       "      <th>HCPCS_Drug_Ind</th>\n",
       "      <th>Place_Of_Srvc</th>\n",
       "    </tr>\n",
       "  </thead>\n",
       "  <tbody>\n",
       "    <tr>\n",
       "      <th>0</th>\n",
       "      <td>National</td>\n",
       "      <td>Missing</td>\n",
       "      <td>National</td>\n",
       "      <td>0001A</td>\n",
       "      <td>Adm sarscov2 30mcg/0.3ml 1st</td>\n",
       "      <td>N</td>\n",
       "      <td>F</td>\n",
       "    </tr>\n",
       "    <tr>\n",
       "      <th>1</th>\n",
       "      <td>National</td>\n",
       "      <td>Missing</td>\n",
       "      <td>National</td>\n",
       "      <td>0001A</td>\n",
       "      <td>Adm sarscov2 30mcg/0.3ml 1st</td>\n",
       "      <td>N</td>\n",
       "      <td>O</td>\n",
       "    </tr>\n",
       "    <tr>\n",
       "      <th>2</th>\n",
       "      <td>National</td>\n",
       "      <td>Missing</td>\n",
       "      <td>National</td>\n",
       "      <td>0002A</td>\n",
       "      <td>Adm sarscov2 30mcg/0.3ml 2nd</td>\n",
       "      <td>N</td>\n",
       "      <td>O</td>\n",
       "    </tr>\n",
       "    <tr>\n",
       "      <th>3</th>\n",
       "      <td>National</td>\n",
       "      <td>Missing</td>\n",
       "      <td>National</td>\n",
       "      <td>0003M</td>\n",
       "      <td>Liver dis 10 assays w/nash</td>\n",
       "      <td>N</td>\n",
       "      <td>O</td>\n",
       "    </tr>\n",
       "    <tr>\n",
       "      <th>4</th>\n",
       "      <td>National</td>\n",
       "      <td>Missing</td>\n",
       "      <td>National</td>\n",
       "      <td>0005U</td>\n",
       "      <td>Test for detecting genes associated with prost...</td>\n",
       "      <td>N</td>\n",
       "      <td>O</td>\n",
       "    </tr>\n",
       "  </tbody>\n",
       "</table>\n",
       "</div>"
      ],
      "text/plain": [
       "  Rndrng_Prvdr_Geo_Lvl Rndrng_Prvdr_Geo_Cd Rndrng_Prvdr_Geo_Desc HCPCS_Cd  \\\n",
       "0             National             Missing              National    0001A   \n",
       "1             National             Missing              National    0001A   \n",
       "2             National             Missing              National    0002A   \n",
       "3             National             Missing              National    0003M   \n",
       "4             National             Missing              National    0005U   \n",
       "\n",
       "                                          HCPCS_Desc HCPCS_Drug_Ind  \\\n",
       "0                       Adm sarscov2 30mcg/0.3ml 1st              N   \n",
       "1                       Adm sarscov2 30mcg/0.3ml 1st              N   \n",
       "2                       Adm sarscov2 30mcg/0.3ml 2nd              N   \n",
       "3                         Liver dis 10 assays w/nash              N   \n",
       "4  Test for detecting genes associated with prost...              N   \n",
       "\n",
       "  Place_Of_Srvc  \n",
       "0             F  \n",
       "1             O  \n",
       "2             O  \n",
       "3             O  \n",
       "4             O  "
      ]
     },
     "execution_count": 38,
     "metadata": {},
     "output_type": "execute_result"
    }
   ],
   "source": [
    "objcols.head()"
   ]
  },
  {
   "cell_type": "code",
   "execution_count": 39,
   "id": "1c491a4f",
   "metadata": {},
   "outputs": [
    {
     "name": "stdout",
     "output_type": "stream",
     "text": [
      "State       255061\n",
      "National     13088\n",
      "Name: Rndrng_Prvdr_Geo_Lvl, dtype: int64\n",
      "Missing    13103\n",
      "06          8843\n",
      "12          8353\n",
      "48          8079\n",
      "36          7663\n",
      "42          7132\n",
      "39          6702\n",
      "17          6694\n",
      "37          6587\n",
      "34          6286\n",
      "26          6239\n",
      "13          6135\n",
      "25          6095\n",
      "51          6075\n",
      "04          6006\n",
      "47          5952\n",
      "24          5866\n",
      "53          5766\n",
      "18          5656\n",
      "29          5649\n",
      "27          5509\n",
      "08          5380\n",
      "01          5253\n",
      "55          5235\n",
      "45          5194\n",
      "40          5028\n",
      "22          4975\n",
      "20          4831\n",
      "21          4805\n",
      "41          4616\n",
      "09          4472\n",
      "28          4388\n",
      "05          4382\n",
      "19          4369\n",
      "32          4252\n",
      "49          4183\n",
      "31          4007\n",
      "35          3577\n",
      "54          3479\n",
      "16          3294\n",
      "33          3282\n",
      "23          3219\n",
      "46          3185\n",
      "10          3110\n",
      "30          2996\n",
      "44          2897\n",
      "38          2843\n",
      "11          2835\n",
      "15          2829\n",
      "02          2239\n",
      "56          2183\n",
      "72          2034\n",
      "50          2027\n",
      "66           660\n",
      "78           639\n",
      "9E           295\n",
      "9D           207\n",
      "9B           183\n",
      "9A           160\n",
      "9C           122\n",
      "69            89\n",
      "60             5\n",
      "Name: Rndrng_Prvdr_Geo_Cd, dtype: int64\n",
      "National                              13103\n",
      "California                             8843\n",
      "Florida                                8353\n",
      "Texas                                  8079\n",
      "New York                               7663\n",
      "Pennsylvania                           7132\n",
      "Ohio                                   6702\n",
      "Illinois                               6694\n",
      "North Carolina                         6587\n",
      "New Jersey                             6286\n",
      "Michigan                               6239\n",
      "Georgia                                6135\n",
      "Massachusetts                          6095\n",
      "Virginia                               6075\n",
      "Arizona                                6006\n",
      "Tennessee                              5952\n",
      "Maryland                               5866\n",
      "Washington                             5766\n",
      "Indiana                                5656\n",
      "Missouri                               5649\n",
      "Minnesota                              5509\n",
      "Colorado                               5380\n",
      "Alabama                                5253\n",
      "Wisconsin                              5235\n",
      "South Carolina                         5194\n",
      "Oklahoma                               5028\n",
      "Louisiana                              4975\n",
      "Kansas                                 4831\n",
      "Kentucky                               4805\n",
      "Oregon                                 4616\n",
      "Connecticut                            4472\n",
      "Mississippi                            4388\n",
      "Arkansas                               4382\n",
      "Iowa                                   4369\n",
      "Nevada                                 4252\n",
      "Utah                                   4183\n",
      "Nebraska                               4007\n",
      "New Mexico                             3577\n",
      "West Virginia                          3479\n",
      "Idaho                                  3294\n",
      "New Hampshire                          3282\n",
      "Maine                                  3219\n",
      "South Dakota                           3185\n",
      "Delaware                               3110\n",
      "Montana                                2996\n",
      "Rhode Island                           2897\n",
      "North Dakota                           2843\n",
      "District of Columbia                   2835\n",
      "Hawaii                                 2829\n",
      "Alaska                                 2239\n",
      "Wyoming                                2183\n",
      "Puerto Rico                            2034\n",
      "Vermont                                2027\n",
      "Guam                                    660\n",
      "Virgin Islands                          639\n",
      "Foreign Country                         295\n",
      "Unknown                                 207\n",
      "Armed Forces Europe                     183\n",
      "Armed Forces Central/South America      160\n",
      "Armed Forces Pacific                    122\n",
      "Northern Mariana Islands                 89\n",
      "American Samoa                            5\n",
      "Name: Rndrng_Prvdr_Geo_Desc, dtype: int64\n",
      "99213    122\n",
      "99214    121\n",
      "99212    119\n",
      "71046    118\n",
      "99203    118\n",
      "        ... \n",
      "66920      1\n",
      "66770      1\n",
      "27325      1\n",
      "27326      1\n",
      "58679      1\n",
      "Name: HCPCS_Cd, Length: 9003, dtype: int64\n",
      "Flow cytometry technique for dna or cell analysis                                                   357\n",
      "Closed treatment of broken ankle                                                                    331\n",
      "Injections of lower or sacral spine facet joint using imaging guidance                              323\n",
      "Injections of upper or middle spine facet joint using imaging guidance                              313\n",
      "Evaluation, testing and programming adjustment of defibrillator with analysis, review and report    311\n",
      "                                                                                                   ... \n",
      "Partial removal of spleen                                                                             1\n",
      "Removal of brain cyst or creation of drainage tract                                                   1\n",
      "Repair of lung herniation through chest wall                                                          1\n",
      "Implantation of brain strip electrodes for seizure monitoring                                         1\n",
      "Injection into ventricle of brain                                                                     1\n",
      "Name: HCPCS_Desc, Length: 7987, dtype: int64\n",
      "N    255866\n",
      "Y     12283\n",
      "Name: HCPCS_Drug_Ind, dtype: int64\n",
      "F    143690\n",
      "O    124459\n",
      "Name: Place_Of_Srvc, dtype: int64\n"
     ]
    }
   ],
   "source": [
    "for i in objcols.columns:\n",
    "    freq=objcols[i].value_counts()\n",
    "    print(freq)"
   ]
  },
  {
   "cell_type": "code",
   "execution_count": 40,
   "id": "89fbfc1c",
   "metadata": {},
   "outputs": [
    {
     "data": {
      "text/plain": [
       "Index(['Rndrng_Prvdr_Geo_Lvl', 'Rndrng_Prvdr_Geo_Cd', 'Rndrng_Prvdr_Geo_Desc',\n",
       "       'HCPCS_Cd', 'HCPCS_Desc', 'HCPCS_Drug_Ind', 'Place_Of_Srvc'],\n",
       "      dtype='object')"
      ]
     },
     "execution_count": 40,
     "metadata": {},
     "output_type": "execute_result"
    }
   ],
   "source": [
    "objcols.columns"
   ]
  },
  {
   "cell_type": "code",
   "execution_count": 41,
   "id": "edd53e4e",
   "metadata": {},
   "outputs": [
    {
     "data": {
      "text/html": [
       "<div>\n",
       "<style scoped>\n",
       "    .dataframe tbody tr th:only-of-type {\n",
       "        vertical-align: middle;\n",
       "    }\n",
       "\n",
       "    .dataframe tbody tr th {\n",
       "        vertical-align: top;\n",
       "    }\n",
       "\n",
       "    .dataframe thead th {\n",
       "        text-align: right;\n",
       "    }\n",
       "</style>\n",
       "<table border=\"1\" class=\"dataframe\">\n",
       "  <thead>\n",
       "    <tr style=\"text-align: right;\">\n",
       "      <th></th>\n",
       "      <th>Rndrng_Prvdr_Geo_Lvl</th>\n",
       "      <th>Rndrng_Prvdr_Geo_Cd</th>\n",
       "      <th>Rndrng_Prvdr_Geo_Desc</th>\n",
       "      <th>HCPCS_Cd</th>\n",
       "      <th>HCPCS_Desc</th>\n",
       "      <th>HCPCS_Drug_Ind</th>\n",
       "      <th>Place_Of_Srvc</th>\n",
       "    </tr>\n",
       "  </thead>\n",
       "  <tbody>\n",
       "    <tr>\n",
       "      <th>0</th>\n",
       "      <td>National</td>\n",
       "      <td>Missing</td>\n",
       "      <td>National</td>\n",
       "      <td>0001A</td>\n",
       "      <td>Adm sarscov2 30mcg/0.3ml 1st</td>\n",
       "      <td>N</td>\n",
       "      <td>F</td>\n",
       "    </tr>\n",
       "    <tr>\n",
       "      <th>1</th>\n",
       "      <td>National</td>\n",
       "      <td>Missing</td>\n",
       "      <td>National</td>\n",
       "      <td>0001A</td>\n",
       "      <td>Adm sarscov2 30mcg/0.3ml 1st</td>\n",
       "      <td>N</td>\n",
       "      <td>O</td>\n",
       "    </tr>\n",
       "    <tr>\n",
       "      <th>2</th>\n",
       "      <td>National</td>\n",
       "      <td>Missing</td>\n",
       "      <td>National</td>\n",
       "      <td>0002A</td>\n",
       "      <td>Adm sarscov2 30mcg/0.3ml 2nd</td>\n",
       "      <td>N</td>\n",
       "      <td>O</td>\n",
       "    </tr>\n",
       "    <tr>\n",
       "      <th>3</th>\n",
       "      <td>National</td>\n",
       "      <td>Missing</td>\n",
       "      <td>National</td>\n",
       "      <td>0003M</td>\n",
       "      <td>Liver dis 10 assays w/nash</td>\n",
       "      <td>N</td>\n",
       "      <td>O</td>\n",
       "    </tr>\n",
       "    <tr>\n",
       "      <th>4</th>\n",
       "      <td>National</td>\n",
       "      <td>Missing</td>\n",
       "      <td>National</td>\n",
       "      <td>0005U</td>\n",
       "      <td>Test for detecting genes associated with prost...</td>\n",
       "      <td>N</td>\n",
       "      <td>O</td>\n",
       "    </tr>\n",
       "  </tbody>\n",
       "</table>\n",
       "</div>"
      ],
      "text/plain": [
       "  Rndrng_Prvdr_Geo_Lvl Rndrng_Prvdr_Geo_Cd Rndrng_Prvdr_Geo_Desc HCPCS_Cd  \\\n",
       "0             National             Missing              National    0001A   \n",
       "1             National             Missing              National    0001A   \n",
       "2             National             Missing              National    0002A   \n",
       "3             National             Missing              National    0003M   \n",
       "4             National             Missing              National    0005U   \n",
       "\n",
       "                                          HCPCS_Desc HCPCS_Drug_Ind  \\\n",
       "0                       Adm sarscov2 30mcg/0.3ml 1st              N   \n",
       "1                       Adm sarscov2 30mcg/0.3ml 1st              N   \n",
       "2                       Adm sarscov2 30mcg/0.3ml 2nd              N   \n",
       "3                         Liver dis 10 assays w/nash              N   \n",
       "4  Test for detecting genes associated with prost...              N   \n",
       "\n",
       "  Place_Of_Srvc  \n",
       "0             F  \n",
       "1             O  \n",
       "2             O  \n",
       "3             O  \n",
       "4             O  "
      ]
     },
     "execution_count": 41,
     "metadata": {},
     "output_type": "execute_result"
    }
   ],
   "source": [
    "objcols.head()"
   ]
  },
  {
   "cell_type": "markdown",
   "id": "3dbf532a",
   "metadata": {},
   "source": [
    "# LabelEncoding"
   ]
  },
  {
   "cell_type": "markdown",
   "id": "d714022e",
   "metadata": {},
   "source": [
    "#### it is used catgorical obejects assign in numaric identifier 0 to n lavels in alphabetic order"
   ]
  },
  {
   "cell_type": "code",
   "execution_count": 42,
   "id": "c2625689",
   "metadata": {},
   "outputs": [],
   "source": [
    "from sklearn.preprocessing import LabelEncoder"
   ]
  },
  {
   "cell_type": "code",
   "execution_count": 43,
   "id": "84b1d199",
   "metadata": {},
   "outputs": [],
   "source": [
    "le=LabelEncoder()"
   ]
  },
  {
   "cell_type": "code",
   "execution_count": 44,
   "id": "2f2fe231",
   "metadata": {},
   "outputs": [
    {
     "data": {
      "text/plain": [
       "Index(['Rndrng_Prvdr_Geo_Lvl', 'Rndrng_Prvdr_Geo_Cd', 'Rndrng_Prvdr_Geo_Desc',\n",
       "       'HCPCS_Cd', 'HCPCS_Desc', 'HCPCS_Drug_Ind', 'Place_Of_Srvc'],\n",
       "      dtype='object')"
      ]
     },
     "execution_count": 44,
     "metadata": {},
     "output_type": "execute_result"
    }
   ],
   "source": [
    "objcols.columns"
   ]
  },
  {
   "cell_type": "markdown",
   "id": "3075652b",
   "metadata": {},
   "source": [
    "#### Dummies: it is used catgorical obejects assign in numaric identifier binary (0 and 1) add anthoer variables based on classes."
   ]
  },
  {
   "cell_type": "code",
   "execution_count": 45,
   "id": "38576c93",
   "metadata": {},
   "outputs": [],
   "source": [
    "objcols_dummy=pd.get_dummies(objcols.drop(['HCPCS_Cd', 'HCPCS_Desc','Rndrng_Prvdr_Geo_Cd'],axis=1))"
   ]
  },
  {
   "cell_type": "code",
   "execution_count": 46,
   "id": "e7de4aa7",
   "metadata": {},
   "outputs": [
    {
     "data": {
      "text/plain": [
       "(268149, 68)"
      ]
     },
     "execution_count": 46,
     "metadata": {},
     "output_type": "execute_result"
    }
   ],
   "source": [
    "objcols_dummy.shape"
   ]
  },
  {
   "cell_type": "code",
   "execution_count": 47,
   "id": "8f662386",
   "metadata": {},
   "outputs": [
    {
     "data": {
      "text/plain": [
       "Index(['Rndrng_Prvdr_Geo_Lvl', 'Rndrng_Prvdr_Geo_Cd', 'Rndrng_Prvdr_Geo_Desc',\n",
       "       'HCPCS_Cd', 'HCPCS_Desc', 'HCPCS_Drug_Ind', 'Place_Of_Srvc'],\n",
       "      dtype='object')"
      ]
     },
     "execution_count": 47,
     "metadata": {},
     "output_type": "execute_result"
    }
   ],
   "source": [
    "objcols.columns"
   ]
  },
  {
   "cell_type": "code",
   "execution_count": 48,
   "id": "9a3006b0",
   "metadata": {},
   "outputs": [],
   "source": [
    "objcols_en=objcols.drop(['HCPCS_Cd','Rndrng_Prvdr_Geo_Cd','HCPCS_Desc'],axis=1).apply(le.fit_transform)"
   ]
  },
  {
   "cell_type": "code",
   "execution_count": 49,
   "id": "eadf9fd5",
   "metadata": {},
   "outputs": [
    {
     "data": {
      "text/html": [
       "<div>\n",
       "<style scoped>\n",
       "    .dataframe tbody tr th:only-of-type {\n",
       "        vertical-align: middle;\n",
       "    }\n",
       "\n",
       "    .dataframe tbody tr th {\n",
       "        vertical-align: top;\n",
       "    }\n",
       "\n",
       "    .dataframe thead th {\n",
       "        text-align: right;\n",
       "    }\n",
       "</style>\n",
       "<table border=\"1\" class=\"dataframe\">\n",
       "  <thead>\n",
       "    <tr style=\"text-align: right;\">\n",
       "      <th></th>\n",
       "      <th>Rndrng_Prvdr_Geo_Lvl</th>\n",
       "      <th>Rndrng_Prvdr_Geo_Desc</th>\n",
       "      <th>HCPCS_Drug_Ind</th>\n",
       "      <th>Place_Of_Srvc</th>\n",
       "    </tr>\n",
       "  </thead>\n",
       "  <tbody>\n",
       "    <tr>\n",
       "      <th>0</th>\n",
       "      <td>0</td>\n",
       "      <td>33</td>\n",
       "      <td>0</td>\n",
       "      <td>0</td>\n",
       "    </tr>\n",
       "    <tr>\n",
       "      <th>1</th>\n",
       "      <td>0</td>\n",
       "      <td>33</td>\n",
       "      <td>0</td>\n",
       "      <td>1</td>\n",
       "    </tr>\n",
       "    <tr>\n",
       "      <th>2</th>\n",
       "      <td>0</td>\n",
       "      <td>33</td>\n",
       "      <td>0</td>\n",
       "      <td>1</td>\n",
       "    </tr>\n",
       "    <tr>\n",
       "      <th>3</th>\n",
       "      <td>0</td>\n",
       "      <td>33</td>\n",
       "      <td>0</td>\n",
       "      <td>1</td>\n",
       "    </tr>\n",
       "    <tr>\n",
       "      <th>4</th>\n",
       "      <td>0</td>\n",
       "      <td>33</td>\n",
       "      <td>0</td>\n",
       "      <td>1</td>\n",
       "    </tr>\n",
       "  </tbody>\n",
       "</table>\n",
       "</div>"
      ],
      "text/plain": [
       "   Rndrng_Prvdr_Geo_Lvl  Rndrng_Prvdr_Geo_Desc  HCPCS_Drug_Ind  Place_Of_Srvc\n",
       "0                     0                     33               0              0\n",
       "1                     0                     33               0              1\n",
       "2                     0                     33               0              1\n",
       "3                     0                     33               0              1\n",
       "4                     0                     33               0              1"
      ]
     },
     "execution_count": 49,
     "metadata": {},
     "output_type": "execute_result"
    }
   ],
   "source": [
    "objcols_en.head()"
   ]
  },
  {
   "cell_type": "code",
   "execution_count": 50,
   "id": "0e0afed2",
   "metadata": {},
   "outputs": [
    {
     "data": {
      "text/plain": [
       "Index(['Tot_Rndrng_Prvdrs', 'Tot_Benes', 'Tot_Srvcs', 'Tot_Bene_Day_Srvcs',\n",
       "       'Avg_Sbmtd_Chrg', 'Avg_Mdcr_Pymt_Amt'],\n",
       "      dtype='object')"
      ]
     },
     "execution_count": 50,
     "metadata": {},
     "output_type": "execute_result"
    }
   ],
   "source": [
    "numcols.columns"
   ]
  },
  {
   "cell_type": "code",
   "execution_count": 51,
   "id": "7b92f63d",
   "metadata": {},
   "outputs": [],
   "source": [
    "from sklearn.preprocessing import RobustScaler\n",
    "\n",
    "# Data has more outliers using roubustscaler"
   ]
  },
  {
   "cell_type": "code",
   "execution_count": 52,
   "id": "05ae9073",
   "metadata": {},
   "outputs": [
    {
     "data": {
      "text/plain": [
       "<Axes: >"
      ]
     },
     "execution_count": 52,
     "metadata": {},
     "output_type": "execute_result"
    },
    {
     "data": {
      "image/png": "[encoded data removed]",
      "text/plain": [
       "<Figure size 640x480 with 1 Axes>"
      ]
     },
     "metadata": {},
     "output_type": "display_data"
    }
   ],
   "source": [
    "sns.boxplot(numcols,orient='h')"
   ]
  },
  {
   "cell_type": "code",
   "execution_count": 53,
   "id": "1e08b935",
   "metadata": {},
   "outputs": [],
   "source": [
    "robust=RobustScaler()"
   ]
  },
  {
   "cell_type": "code",
   "execution_count": 54,
   "id": "33e04346",
   "metadata": {},
   "outputs": [],
   "source": [
    "numcols_robust=robust.fit_transform(numcols.drop('Avg_Mdcr_Pymt_Amt',axis=1))"
   ]
  },
  {
   "cell_type": "code",
   "execution_count": 55,
   "id": "bcc75ab6",
   "metadata": {},
   "outputs": [],
   "source": [
    "numcols_robust=pd.DataFrame(numcols_robust,columns=['Tot_Rndrng_Prvdrs', 'Tot_Benes', 'Tot_Srvcs', 'Tot_Bene_Day_Srvcs',\n",
    "       'Avg_Sbmtd_Chrg'])"
   ]
  },
  {
   "cell_type": "code",
   "execution_count": 56,
   "id": "f105ccad",
   "metadata": {},
   "outputs": [
    {
     "data": {
      "text/plain": [
       "0                         Adm sarscov2 30mcg/0.3ml 1st\n",
       "1                         Adm sarscov2 30mcg/0.3ml 1st\n",
       "2                         Adm sarscov2 30mcg/0.3ml 2nd\n",
       "3                           Liver dis 10 assays w/nash\n",
       "4    Test for detecting genes associated with prost...\n",
       "Name: HCPCS_Desc, dtype: object"
      ]
     },
     "execution_count": 56,
     "metadata": {},
     "output_type": "execute_result"
    }
   ],
   "source": [
    "medicare.HCPCS_Desc.head()"
   ]
  },
  {
   "cell_type": "code",
   "execution_count": 57,
   "id": "e00e468c",
   "metadata": {},
   "outputs": [],
   "source": [
    "medicaretxt=medicare.HCPCS_Desc\n",
    "\n",
    "# We Took text data"
   ]
  },
  {
   "cell_type": "code",
   "execution_count": 58,
   "id": "940daeec",
   "metadata": {},
   "outputs": [],
   "source": [
    "# Create funcation Replace special latters in cintent with space\n",
    "\n",
    "def clean_tweet(tweet):\n",
    "    return ' '.join(re.sub(\"(@[A-Za-z0-9]+)|(#[A-Za-z0-9]+)|([^0-9A-Za-z \\t])|(\\w+:\\/\\/\\s+)|([0-9])\",\" \",tweet).split())"
   ]
  },
  {
   "cell_type": "code",
   "execution_count": 59,
   "id": "de0240e4",
   "metadata": {},
   "outputs": [],
   "source": [
    "medicaretxt=[str(clean_tweet(w)) for w in medicaretxt]\n",
    "\n",
    "# Text covert into words"
   ]
  },
  {
   "cell_type": "code",
   "execution_count": 60,
   "id": "e2b951fd",
   "metadata": {},
   "outputs": [],
   "source": [
    "medicaretxt=pd.DataFrame(medicaretxt,columns=['HPCS_Desc'])"
   ]
  },
  {
   "cell_type": "code",
   "execution_count": 61,
   "id": "dc67f0bb",
   "metadata": {},
   "outputs": [],
   "source": [
    "medicaretxt.HPCS_Desc=medicaretxt.HPCS_Desc.str.lower()\n",
    "\n",
    "# All words covert in lower case"
   ]
  },
  {
   "cell_type": "code",
   "execution_count": 62,
   "id": "204440f5",
   "metadata": {},
   "outputs": [],
   "source": [
    "from nltk.corpus import stopwords\n",
    "\n",
    "# This used stop the english stop words like and,is,are,that...etc"
   ]
  },
  {
   "cell_type": "code",
   "execution_count": 63,
   "id": "d7dd5bac",
   "metadata": {},
   "outputs": [],
   "source": [
    "stop_words=set(stopwords.words(\"english\")) # define stopwords"
   ]
  },
  {
   "cell_type": "code",
   "execution_count": 64,
   "id": "a7617665",
   "metadata": {},
   "outputs": [],
   "source": [
    "medicare_words=medicaretxt.HPCS_Desc.str.split()"
   ]
  },
  {
   "cell_type": "code",
   "execution_count": 65,
   "id": "ae4ef2bc",
   "metadata": {},
   "outputs": [],
   "source": [
    "from wordcloud import WordCloud"
   ]
  },
  {
   "cell_type": "code",
   "execution_count": 66,
   "id": "c57005c5",
   "metadata": {},
   "outputs": [
    {
     "data": {
      "image/png": "[encoded data removed]",
      "text/plain": [
       "<Figure size 2000x1000 with 1 Axes>"
      ]
     },
     "metadata": {},
     "output_type": "display_data"
    }
   ],
   "source": [
    "wordcloud=WordCloud(width=1000,height=500,stopwords=stop_words).generate(str(medicare_words))\n",
    "plt.figure(figsize=(20,10))\n",
    "plt.imshow(wordcloud)\n",
    "plt.axis(\"off\")\n",
    "plt.show()"
   ]
  },
  {
   "cell_type": "code",
   "execution_count": 67,
   "id": "bda6ef9a",
   "metadata": {},
   "outputs": [],
   "source": [
    "medicare_words=medicare_words.map(' '.join) \n",
    "\n",
    "# Combine words in rows into single list or array of words"
   ]
  },
  {
   "cell_type": "code",
   "execution_count": 68,
   "id": "9780734a",
   "metadata": {},
   "outputs": [],
   "source": [
    "from sklearn.feature_extraction.text import CountVectorizer"
   ]
  },
  {
   "cell_type": "code",
   "execution_count": 69,
   "id": "41a20306",
   "metadata": {},
   "outputs": [],
   "source": [
    "DTM=CountVectorizer(stop_words='english',max_features=300,ngram_range=(2,2))"
   ]
  },
  {
   "cell_type": "code",
   "execution_count": 70,
   "id": "c6ab7146",
   "metadata": {},
   "outputs": [],
   "source": [
    "nlp_DTM=DTM.fit_transform(medicare_words)"
   ]
  },
  {
   "cell_type": "code",
   "execution_count": 71,
   "id": "f15a6f4f",
   "metadata": {},
   "outputs": [
    {
     "data": {
      "text/plain": [
       "(268149, 300)"
      ]
     },
     "execution_count": 71,
     "metadata": {},
     "output_type": "execute_result"
    }
   ],
   "source": [
    "nlp_DTM.shape"
   ]
  },
  {
   "cell_type": "code",
   "execution_count": 72,
   "id": "b6e073cf",
   "metadata": {},
   "outputs": [
    {
     "data": {
      "text/html": [
       "<div>\n",
       "<style scoped>\n",
       "    .dataframe tbody tr th:only-of-type {\n",
       "        vertical-align: middle;\n",
       "    }\n",
       "\n",
       "    .dataframe tbody tr th {\n",
       "        vertical-align: top;\n",
       "    }\n",
       "\n",
       "    .dataframe thead th {\n",
       "        text-align: right;\n",
       "    }\n",
       "</style>\n",
       "<table border=\"1\" class=\"dataframe\">\n",
       "  <thead>\n",
       "    <tr style=\"text-align: right;\">\n",
       "      <th></th>\n",
       "      <th>anesthesia procedure</th>\n",
       "      <th>using endoscope</th>\n",
       "      <th>soft tissue</th>\n",
       "      <th>gene analysis</th>\n",
       "      <th>ray imaging</th>\n",
       "      <th>blood vessel</th>\n",
       "      <th>brain spinal</th>\n",
       "      <th>spinal cord</th>\n",
       "      <th>needle biopsy</th>\n",
       "      <th>blood vessels</th>\n",
       "      <th>...</th>\n",
       "      <th>visit typically</th>\n",
       "      <th>inpatient care</th>\n",
       "      <th>minutes day</th>\n",
       "      <th>facility visit</th>\n",
       "      <th>management services</th>\n",
       "      <th>care management</th>\n",
       "      <th>cancer screening</th>\n",
       "      <th>home health</th>\n",
       "      <th>minutes communicating</th>\n",
       "      <th>communicating patient</th>\n",
       "    </tr>\n",
       "  </thead>\n",
       "  <tbody>\n",
       "    <tr>\n",
       "      <th>0</th>\n",
       "      <td>0</td>\n",
       "      <td>0</td>\n",
       "      <td>0</td>\n",
       "      <td>0</td>\n",
       "      <td>0</td>\n",
       "      <td>0</td>\n",
       "      <td>0</td>\n",
       "      <td>0</td>\n",
       "      <td>0</td>\n",
       "      <td>0</td>\n",
       "      <td>...</td>\n",
       "      <td>0</td>\n",
       "      <td>0</td>\n",
       "      <td>0</td>\n",
       "      <td>0</td>\n",
       "      <td>0</td>\n",
       "      <td>0</td>\n",
       "      <td>0</td>\n",
       "      <td>0</td>\n",
       "      <td>0</td>\n",
       "      <td>0</td>\n",
       "    </tr>\n",
       "    <tr>\n",
       "      <th>1</th>\n",
       "      <td>0</td>\n",
       "      <td>0</td>\n",
       "      <td>0</td>\n",
       "      <td>0</td>\n",
       "      <td>0</td>\n",
       "      <td>0</td>\n",
       "      <td>0</td>\n",
       "      <td>0</td>\n",
       "      <td>0</td>\n",
       "      <td>0</td>\n",
       "      <td>...</td>\n",
       "      <td>0</td>\n",
       "      <td>0</td>\n",
       "      <td>0</td>\n",
       "      <td>0</td>\n",
       "      <td>0</td>\n",
       "      <td>0</td>\n",
       "      <td>0</td>\n",
       "      <td>0</td>\n",
       "      <td>0</td>\n",
       "      <td>0</td>\n",
       "    </tr>\n",
       "    <tr>\n",
       "      <th>2</th>\n",
       "      <td>0</td>\n",
       "      <td>0</td>\n",
       "      <td>0</td>\n",
       "      <td>0</td>\n",
       "      <td>0</td>\n",
       "      <td>0</td>\n",
       "      <td>0</td>\n",
       "      <td>0</td>\n",
       "      <td>0</td>\n",
       "      <td>0</td>\n",
       "      <td>...</td>\n",
       "      <td>0</td>\n",
       "      <td>0</td>\n",
       "      <td>0</td>\n",
       "      <td>0</td>\n",
       "      <td>0</td>\n",
       "      <td>0</td>\n",
       "      <td>0</td>\n",
       "      <td>0</td>\n",
       "      <td>0</td>\n",
       "      <td>0</td>\n",
       "    </tr>\n",
       "    <tr>\n",
       "      <th>3</th>\n",
       "      <td>0</td>\n",
       "      <td>0</td>\n",
       "      <td>0</td>\n",
       "      <td>0</td>\n",
       "      <td>0</td>\n",
       "      <td>0</td>\n",
       "      <td>0</td>\n",
       "      <td>0</td>\n",
       "      <td>0</td>\n",
       "      <td>0</td>\n",
       "      <td>...</td>\n",
       "      <td>0</td>\n",
       "      <td>0</td>\n",
       "      <td>0</td>\n",
       "      <td>0</td>\n",
       "      <td>0</td>\n",
       "      <td>0</td>\n",
       "      <td>0</td>\n",
       "      <td>0</td>\n",
       "      <td>0</td>\n",
       "      <td>0</td>\n",
       "    </tr>\n",
       "    <tr>\n",
       "      <th>4</th>\n",
       "      <td>0</td>\n",
       "      <td>0</td>\n",
       "      <td>0</td>\n",
       "      <td>0</td>\n",
       "      <td>0</td>\n",
       "      <td>0</td>\n",
       "      <td>0</td>\n",
       "      <td>0</td>\n",
       "      <td>0</td>\n",
       "      <td>0</td>\n",
       "      <td>...</td>\n",
       "      <td>0</td>\n",
       "      <td>0</td>\n",
       "      <td>0</td>\n",
       "      <td>0</td>\n",
       "      <td>0</td>\n",
       "      <td>0</td>\n",
       "      <td>0</td>\n",
       "      <td>0</td>\n",
       "      <td>0</td>\n",
       "      <td>0</td>\n",
       "    </tr>\n",
       "  </tbody>\n",
       "</table>\n",
       "<p>5 rows × 300 columns</p>\n",
       "</div>"
      ],
      "text/plain": [
       "   anesthesia procedure  using endoscope  soft tissue  gene analysis  \\\n",
       "0                     0                0            0              0   \n",
       "1                     0                0            0              0   \n",
       "2                     0                0            0              0   \n",
       "3                     0                0            0              0   \n",
       "4                     0                0            0              0   \n",
       "\n",
       "   ray imaging  blood vessel  brain spinal  spinal cord  needle biopsy  \\\n",
       "0            0             0             0            0              0   \n",
       "1            0             0             0            0              0   \n",
       "2            0             0             0            0              0   \n",
       "3            0             0             0            0              0   \n",
       "4            0             0             0            0              0   \n",
       "\n",
       "   blood vessels  ...  visit typically  inpatient care  minutes day  \\\n",
       "0              0  ...                0               0            0   \n",
       "1              0  ...                0               0            0   \n",
       "2              0  ...                0               0            0   \n",
       "3              0  ...                0               0            0   \n",
       "4              0  ...                0               0            0   \n",
       "\n",
       "   facility visit  management services  care management  cancer screening  \\\n",
       "0               0                    0                0                 0   \n",
       "1               0                    0                0                 0   \n",
       "2               0                    0                0                 0   \n",
       "3               0                    0                0                 0   \n",
       "4               0                    0                0                 0   \n",
       "\n",
       "   home health  minutes communicating  communicating patient  \n",
       "0            0                      0                      0  \n",
       "1            0                      0                      0  \n",
       "2            0                      0                      0  \n",
       "3            0                      0                      0  \n",
       "4            0                      0                      0  \n",
       "\n",
       "[5 rows x 300 columns]"
      ]
     },
     "execution_count": 72,
     "metadata": {},
     "output_type": "execute_result"
    }
   ],
   "source": [
    "pd.DataFrame(nlp_DTM.toarray(),columns=DTM.vocabulary_).head()"
   ]
  },
  {
   "cell_type": "code",
   "execution_count": 73,
   "id": "e5c63ea5",
   "metadata": {},
   "outputs": [],
   "source": [
    "nlp_df=pd.DataFrame(nlp_DTM.toarray(),columns=DTM.vocabulary_)"
   ]
  },
  {
   "cell_type": "code",
   "execution_count": 74,
   "id": "0005c602",
   "metadata": {},
   "outputs": [
    {
     "data": {
      "text/plain": [
       "Index(['Tot_Rndrng_Prvdrs', 'Tot_Benes', 'Tot_Srvcs', 'Tot_Bene_Day_Srvcs',\n",
       "       'Avg_Sbmtd_Chrg', 'Avg_Mdcr_Pymt_Amt'],\n",
       "      dtype='object')"
      ]
     },
     "execution_count": 74,
     "metadata": {},
     "output_type": "execute_result"
    }
   ],
   "source": [
    "numcols.columns"
   ]
  },
  {
   "cell_type": "code",
   "execution_count": 75,
   "id": "771b7b99",
   "metadata": {},
   "outputs": [],
   "source": [
    "medicare_df=pd.concat([nlp_df,objcols_dummy,numcols_robust],axis=1)"
   ]
  },
  {
   "cell_type": "code",
   "execution_count": 76,
   "id": "1924782f",
   "metadata": {},
   "outputs": [],
   "source": [
    "medicare_df1=pd.concat([nlp_df,objcols_en,numcols_robust],axis=1)"
   ]
  },
  {
   "cell_type": "code",
   "execution_count": 77,
   "id": "c53bc338",
   "metadata": {},
   "outputs": [],
   "source": [
    "y=numcols.Avg_Mdcr_Pymt_Amt\n",
    "X=medicare_df\n",
    "X1=medicare_df1"
   ]
  },
  {
   "cell_type": "code",
   "execution_count": 78,
   "id": "9d5b1a6a",
   "metadata": {},
   "outputs": [
    {
     "data": {
      "image/png": "[encoded data removed]",
      "text/plain": [
       "<Figure size 640x480 with 3 Axes>"
      ]
     },
     "metadata": {},
     "output_type": "display_data"
    }
   ],
   "source": [
    "fig,ax=plt.subplots(3,1)\n",
    "sns.histplot(y,ax=ax[0])\n",
    "sns.boxplot(y,orient='h',ax=ax[1])\n",
    "sns.kdeplot(y,ax=ax[2]);"
   ]
  },
  {
   "cell_type": "code",
   "execution_count": 79,
   "id": "57b31808",
   "metadata": {},
   "outputs": [
    {
     "data": {
      "image/png": "[encoded data removed]",
      "text/plain": [
       "<Figure size 640x480 with 3 Axes>"
      ]
     },
     "metadata": {},
     "output_type": "display_data"
    }
   ],
   "source": [
    "fig,ax=plt.subplots(3,1)\n",
    "sns.histplot(np.log(y),ax=ax[0])\n",
    "sns.boxplot(np.log(y),orient='h',ax=ax[1])\n",
    "sns.kdeplot(np.log(y),ax=ax[2]);"
   ]
  },
  {
   "cell_type": "markdown",
   "id": "f5915c95",
   "metadata": {},
   "source": [
    "This depenedent variable have numeric values now we build the \"REGRESSION\" Models"
   ]
  },
  {
   "cell_type": "markdown",
   "id": "ed79142c",
   "metadata": {},
   "source": [
    "# Regression"
   ]
  },
  {
   "cell_type": "markdown",
   "id": "5d684cd6",
   "metadata": {},
   "source": [
    "#### In the dependent variable must be in numeric , continus.\n",
    "#### In the numeric varibles are no missing values, closed to normal dirstbuation,minumum outlier\n",
    "#### no multicolinarty between any two variables, if have multicolinarty the prblm have over fitting, mulicolinarty(>0.95) "
   ]
  },
  {
   "cell_type": "markdown",
   "id": "58c7d8c4",
   "metadata": {},
   "source": [
    "# With pd.get_dummmies()"
   ]
  },
  {
   "cell_type": "markdown",
   "id": "78615326",
   "metadata": {},
   "source": [
    "# Linear Regression"
   ]
  },
  {
   "cell_type": "markdown",
   "id": "50feee9c",
   "metadata": {},
   "source": [
    " It is supervise learning algoritm we easily find which is dependent variable and which is independent variable.Mainly it is find linera relation between both independent and numaric dependent variables."
   ]
  },
  {
   "cell_type": "markdown",
   "id": "2c55177c",
   "metadata": {},
   "source": [
    "Without Logarithmic function"
   ]
  },
  {
   "cell_type": "code",
   "execution_count": 80,
   "id": "6c7a974f",
   "metadata": {},
   "outputs": [],
   "source": [
    "from sklearn.linear_model import LinearRegression"
   ]
  },
  {
   "cell_type": "code",
   "execution_count": 81,
   "id": "d7f32b1c",
   "metadata": {},
   "outputs": [],
   "source": [
    "reg=LinearRegression()"
   ]
  },
  {
   "cell_type": "code",
   "execution_count": 82,
   "id": "3d94558f",
   "metadata": {},
   "outputs": [],
   "source": [
    "regmodel=reg.fit(X,y)"
   ]
  },
  {
   "cell_type": "code",
   "execution_count": 83,
   "id": "b8105d5c",
   "metadata": {},
   "outputs": [
    {
     "data": {
      "text/plain": [
       "0.655056542404949"
      ]
     },
     "execution_count": 83,
     "metadata": {},
     "output_type": "execute_result"
    }
   ],
   "source": [
    "regmodel.score(X,y)"
   ]
  },
  {
   "cell_type": "code",
   "execution_count": 84,
   "id": "b314dcb4",
   "metadata": {},
   "outputs": [],
   "source": [
    "regpred=regmodel.predict(X)"
   ]
  },
  {
   "cell_type": "code",
   "execution_count": 85,
   "id": "219d1ff0",
   "metadata": {},
   "outputs": [],
   "source": [
    "regresid=y-regpred"
   ]
  },
  {
   "cell_type": "code",
   "execution_count": 86,
   "id": "74b9548c",
   "metadata": {},
   "outputs": [
    {
     "data": {
      "text/plain": [
       "361.703356426028"
      ]
     },
     "execution_count": 86,
     "metadata": {},
     "output_type": "execute_result"
    }
   ],
   "source": [
    "np.sqrt(np.mean(regresid**2))"
   ]
  },
  {
   "cell_type": "markdown",
   "id": "0e3e2b9c",
   "metadata": {},
   "source": [
    "With Logarithmic function"
   ]
  },
  {
   "cell_type": "code",
   "execution_count": 87,
   "id": "b8b56a31",
   "metadata": {},
   "outputs": [],
   "source": [
    "regmodel=reg.fit(X,np.log(y))"
   ]
  },
  {
   "cell_type": "code",
   "execution_count": 88,
   "id": "fc562f63",
   "metadata": {},
   "outputs": [
    {
     "data": {
      "text/plain": [
       "0.5621432964213953"
      ]
     },
     "execution_count": 88,
     "metadata": {},
     "output_type": "execute_result"
    }
   ],
   "source": [
    "regmodel.score(X,np.log(y))"
   ]
  },
  {
   "cell_type": "code",
   "execution_count": 89,
   "id": "bb8987a8",
   "metadata": {},
   "outputs": [],
   "source": [
    "regpred=regmodel.predict(X)"
   ]
  },
  {
   "cell_type": "code",
   "execution_count": 90,
   "id": "d7fc181b",
   "metadata": {},
   "outputs": [],
   "source": [
    "regpred=np.exp(regpred)"
   ]
  },
  {
   "cell_type": "code",
   "execution_count": 91,
   "id": "fac76983",
   "metadata": {},
   "outputs": [],
   "source": [
    "regresid=y-regpred"
   ]
  },
  {
   "cell_type": "code",
   "execution_count": 92,
   "id": "7a2a4e54",
   "metadata": {},
   "outputs": [
    {
     "data": {
      "text/plain": [
       "280777372307.10126"
      ]
     },
     "execution_count": 92,
     "metadata": {},
     "output_type": "execute_result"
    }
   ],
   "source": [
    "np.sqrt(np.mean(regresid**2))"
   ]
  },
  {
   "cell_type": "markdown",
   "id": "a161aa66",
   "metadata": {},
   "source": [
    "# Decision Tree"
   ]
  },
  {
   "cell_type": "markdown",
   "id": "19e1e30b",
   "metadata": {},
   "source": [
    "Single Tree Algoritham -Decision Tree is a Binary splitting and recursive  partitioning treedecision tree has a root node on top which splitss into decision nodes and further splits into leaf node/terminl node orfurther decision nodes.Recursive partitioning is tree splits on pervious node number of observations. Once all observation are classified into leafnodes or terminal nodes, Tree growth will stop."
   ]
  },
  {
   "cell_type": "markdown",
   "id": "170dff73",
   "metadata": {},
   "source": [
    "without Logarithmic function"
   ]
  },
  {
   "cell_type": "code",
   "execution_count": 111,
   "id": "bed15598",
   "metadata": {},
   "outputs": [],
   "source": [
    "from sklearn.tree import DecisionTreeRegressor\n",
    "from sklearn.model_selection import cross_val_score"
   ]
  },
  {
   "cell_type": "code",
   "execution_count": 94,
   "id": "440ac7bb",
   "metadata": {},
   "outputs": [],
   "source": [
    "tree=DecisionTreeRegressor(max_depth=15)"
   ]
  },
  {
   "cell_type": "code",
   "execution_count": 95,
   "id": "3072fdb7",
   "metadata": {},
   "outputs": [],
   "source": [
    "treemodel=tree.fit(X,y)"
   ]
  },
  {
   "cell_type": "code",
   "execution_count": 96,
   "id": "6754c25d",
   "metadata": {},
   "outputs": [
    {
     "data": {
      "text/plain": [
       "0.9398602804254511"
      ]
     },
     "execution_count": 96,
     "metadata": {},
     "output_type": "execute_result"
    }
   ],
   "source": [
    "treemodel.score(X,y)"
   ]
  },
  {
   "cell_type": "code",
   "execution_count": 97,
   "id": "4f709dd8",
   "metadata": {},
   "outputs": [
    {
     "data": {
      "text/plain": [
       "array([0.82730998, 0.85289513, 0.79156527, 0.8761705 , 0.86216294])"
      ]
     },
     "execution_count": 97,
     "metadata": {},
     "output_type": "execute_result"
    }
   ],
   "source": [
    "cross_val_score(tree,X,y)"
   ]
  },
  {
   "cell_type": "code",
   "execution_count": 98,
   "id": "63de39dc",
   "metadata": {},
   "outputs": [
    {
     "data": {
      "text/plain": [
       "0.8420207639999999"
      ]
     },
     "execution_count": 98,
     "metadata": {},
     "output_type": "execute_result"
    }
   ],
   "source": [
    "np.mean([0.82730998, 0.85289513, 0.79156527, 0.8761705 , 0.86216294])"
   ]
  },
  {
   "cell_type": "code",
   "execution_count": 99,
   "id": "291681e9",
   "metadata": {},
   "outputs": [],
   "source": [
    "treepred=treemodel.predict(X)"
   ]
  },
  {
   "cell_type": "code",
   "execution_count": 100,
   "id": "67573758",
   "metadata": {},
   "outputs": [],
   "source": [
    "treeresid=y-treepred"
   ]
  },
  {
   "cell_type": "code",
   "execution_count": 101,
   "id": "1342d2da",
   "metadata": {},
   "outputs": [
    {
     "data": {
      "text/plain": [
       "151.02862970689964"
      ]
     },
     "execution_count": 101,
     "metadata": {},
     "output_type": "execute_result"
    }
   ],
   "source": [
    "np.sqrt(np.mean(treeresid**2))"
   ]
  },
  {
   "cell_type": "markdown",
   "id": "543b8747",
   "metadata": {},
   "source": [
    "with Logarithmic Function"
   ]
  },
  {
   "cell_type": "code",
   "execution_count": 102,
   "id": "cdbe9c1e",
   "metadata": {},
   "outputs": [],
   "source": [
    "tree=DecisionTreeRegressor(max_depth=40)"
   ]
  },
  {
   "cell_type": "code",
   "execution_count": 103,
   "id": "da84b9a7",
   "metadata": {},
   "outputs": [],
   "source": [
    "treemodel=tree.fit(X,np.log(y))"
   ]
  },
  {
   "cell_type": "code",
   "execution_count": 104,
   "id": "ac7bef54",
   "metadata": {},
   "outputs": [
    {
     "data": {
      "text/plain": [
       "0.9740708550391172"
      ]
     },
     "execution_count": 104,
     "metadata": {},
     "output_type": "execute_result"
    }
   ],
   "source": [
    "treemodel.score(X,np.log(y))"
   ]
  },
  {
   "cell_type": "code",
   "execution_count": 105,
   "id": "794420e5",
   "metadata": {},
   "outputs": [
    {
     "data": {
      "text/plain": [
       "array([0.87520883, 0.89113844, 0.88760969, 0.885337  , 0.8535232 ])"
      ]
     },
     "execution_count": 105,
     "metadata": {},
     "output_type": "execute_result"
    }
   ],
   "source": [
    "cross_val_score(tree,X,np.log(y))"
   ]
  },
  {
   "cell_type": "code",
   "execution_count": 106,
   "id": "77712e80",
   "metadata": {},
   "outputs": [
    {
     "data": {
      "text/plain": [
       "0.878563432"
      ]
     },
     "execution_count": 106,
     "metadata": {},
     "output_type": "execute_result"
    }
   ],
   "source": [
    "np.mean([0.87520883, 0.89113844, 0.88760969, 0.885337  , 0.8535232 ])"
   ]
  },
  {
   "cell_type": "code",
   "execution_count": 107,
   "id": "fd935d11",
   "metadata": {},
   "outputs": [],
   "source": [
    "treepred=treemodel.predict(X)"
   ]
  },
  {
   "cell_type": "code",
   "execution_count": 108,
   "id": "c043d2ae",
   "metadata": {},
   "outputs": [],
   "source": [
    "treepred=np.exp(treepred)"
   ]
  },
  {
   "cell_type": "code",
   "execution_count": 109,
   "id": "173aa5a2",
   "metadata": {},
   "outputs": [],
   "source": [
    "treeresid=y-treepred"
   ]
  },
  {
   "cell_type": "code",
   "execution_count": 110,
   "id": "ca70920e",
   "metadata": {},
   "outputs": [
    {
     "data": {
      "text/plain": [
       "87.52270625733816"
      ]
     },
     "execution_count": 110,
     "metadata": {},
     "output_type": "execute_result"
    }
   ],
   "source": [
    "np.sqrt(np.mean(treeresid**2))"
   ]
  },
  {
   "cell_type": "markdown",
   "id": "bb46cf4a",
   "metadata": {},
   "source": [
    "# Random Forest"
   ]
  },
  {
   "cell_type": "markdown",
   "id": "a9f6e4d8",
   "metadata": {},
   "source": [
    "MultiTree Models - Ensemble Techniques - Bagging - Random Algorithm Bagging also called as Bootstrap Aggregating is an ensemble learning technique that helps to improve the performance and accuracy of machine learning algorithms.  It is used to deal with bias-variance trade-offs and reduces the variance of a prediction model.  Bagging avoids overfitting of data and is used for both regression and classification models,  specifically for decision tree algorithms."
   ]
  },
  {
   "cell_type": "markdown",
   "id": "9cd08536",
   "metadata": {},
   "source": [
    "without logarithmic function"
   ]
  },
  {
   "cell_type": "code",
   "execution_count": 112,
   "id": "ee3b5f9f",
   "metadata": {},
   "outputs": [],
   "source": [
    "from sklearn.ensemble import RandomForestRegressor,GradientBoostingRegressor"
   ]
  },
  {
   "cell_type": "code",
   "execution_count": 132,
   "id": "ee3ec304",
   "metadata": {},
   "outputs": [],
   "source": [
    "rf=RandomForestRegressor(max_depth=15,n_estimators=70)"
   ]
  },
  {
   "cell_type": "code",
   "execution_count": 133,
   "id": "85cba93e",
   "metadata": {},
   "outputs": [],
   "source": [
    "rfmodel=rf.fit(X,y)"
   ]
  },
  {
   "cell_type": "code",
   "execution_count": 134,
   "id": "15100289",
   "metadata": {},
   "outputs": [
    {
     "data": {
      "text/plain": [
       "0.9430716800556357"
      ]
     },
     "execution_count": 134,
     "metadata": {},
     "output_type": "execute_result"
    }
   ],
   "source": [
    "rfmodel.score(X,y)"
   ]
  },
  {
   "cell_type": "code",
   "execution_count": 135,
   "id": "5711038a",
   "metadata": {},
   "outputs": [
    {
     "data": {
      "text/plain": [
       "array([0.86682362, 0.89770211, 0.85160947, 0.90790746, 0.88177393])"
      ]
     },
     "execution_count": 135,
     "metadata": {},
     "output_type": "execute_result"
    }
   ],
   "source": [
    "cross_val_score(rf,X,y)"
   ]
  },
  {
   "cell_type": "code",
   "execution_count": 136,
   "id": "2151259d",
   "metadata": {},
   "outputs": [
    {
     "data": {
      "text/plain": [
       "0.8811633180000001"
      ]
     },
     "execution_count": 136,
     "metadata": {},
     "output_type": "execute_result"
    }
   ],
   "source": [
    "np.mean([0.86682362, 0.89770211, 0.85160947, 0.90790746, 0.88177393])"
   ]
  },
  {
   "cell_type": "code",
   "execution_count": 137,
   "id": "f81fa600",
   "metadata": {},
   "outputs": [],
   "source": [
    "rfpred=rfmodel.predict(X)"
   ]
  },
  {
   "cell_type": "code",
   "execution_count": 138,
   "id": "7c7dcff4",
   "metadata": {},
   "outputs": [],
   "source": [
    "rfresid=y-rfpred"
   ]
  },
  {
   "cell_type": "code",
   "execution_count": 139,
   "id": "4405bb42",
   "metadata": {},
   "outputs": [
    {
     "data": {
      "text/plain": [
       "146.940923937479"
      ]
     },
     "execution_count": 139,
     "metadata": {},
     "output_type": "execute_result"
    }
   ],
   "source": [
    "np.sqrt(np.mean(rfresid**2))"
   ]
  },
  {
   "cell_type": "markdown",
   "id": "48d2cd8f",
   "metadata": {},
   "source": [
    "with logarithmic function"
   ]
  },
  {
   "cell_type": "code",
   "execution_count": 140,
   "id": "3b4ef6a0",
   "metadata": {},
   "outputs": [],
   "source": [
    "rfmodel=rf.fit(X,np.log(y))"
   ]
  },
  {
   "cell_type": "code",
   "execution_count": 141,
   "id": "46139e41",
   "metadata": {},
   "outputs": [
    {
     "data": {
      "text/plain": [
       "0.9272829031529513"
      ]
     },
     "execution_count": 141,
     "metadata": {},
     "output_type": "execute_result"
    }
   ],
   "source": [
    "rfmodel.score(X,np.log(y))"
   ]
  },
  {
   "cell_type": "code",
   "execution_count": 142,
   "id": "ba527e3d",
   "metadata": {},
   "outputs": [
    {
     "data": {
      "text/plain": [
       "array([0.90511808, 0.91551966, 0.91385144, 0.9108363 , 0.88935793])"
      ]
     },
     "execution_count": 142,
     "metadata": {},
     "output_type": "execute_result"
    }
   ],
   "source": [
    "cross_val_score(rf,X,np.log(y))"
   ]
  },
  {
   "cell_type": "code",
   "execution_count": 143,
   "id": "93024a41",
   "metadata": {},
   "outputs": [
    {
     "data": {
      "text/plain": [
       "0.9069366819999999"
      ]
     },
     "execution_count": 143,
     "metadata": {},
     "output_type": "execute_result"
    }
   ],
   "source": [
    "np.mean([0.90511808, 0.91551966, 0.91385144, 0.9108363 , 0.88935793])"
   ]
  },
  {
   "cell_type": "code",
   "execution_count": 144,
   "id": "eddb7b04",
   "metadata": {},
   "outputs": [],
   "source": [
    "rfpred=rfmodel.predict(X)"
   ]
  },
  {
   "cell_type": "code",
   "execution_count": 145,
   "id": "fe944c13",
   "metadata": {},
   "outputs": [],
   "source": [
    "rfresid=y-rfpred"
   ]
  },
  {
   "cell_type": "code",
   "execution_count": 146,
   "id": "9e6f1000",
   "metadata": {},
   "outputs": [
    {
     "data": {
      "text/plain": [
       "656.8528994354484"
      ]
     },
     "execution_count": 146,
     "metadata": {},
     "output_type": "execute_result"
    }
   ],
   "source": [
    "np.sqrt(np.mean(rfresid**2))"
   ]
  },
  {
   "cell_type": "markdown",
   "id": "1314a409",
   "metadata": {},
   "source": [
    "# Gradient Boosting"
   ]
  },
  {
   "cell_type": "markdown",
   "id": "93ad6edb",
   "metadata": {},
   "source": [
    "Supervised Learning _ Ensemble methods -Boosting Method - Gradient Boosting Machine Boosting Algorthms are developed to improve the accuracy of the machine learning  models by targeting weak leaners or wrong pread. Gradiante boosting machine algorithm is both classification and regression algorithm"
   ]
  },
  {
   "cell_type": "markdown",
   "id": "77964566",
   "metadata": {},
   "source": [
    "without Logarithmic function"
   ]
  },
  {
   "cell_type": "code",
   "execution_count": 113,
   "id": "50909f4d",
   "metadata": {},
   "outputs": [],
   "source": [
    "gb=GradientBoostingRegressor(n_estimators=300)"
   ]
  },
  {
   "cell_type": "code",
   "execution_count": 114,
   "id": "5a60a159",
   "metadata": {},
   "outputs": [],
   "source": [
    "gbmodel=gb.fit(X,y)"
   ]
  },
  {
   "cell_type": "code",
   "execution_count": 115,
   "id": "656f1b14",
   "metadata": {},
   "outputs": [
    {
     "data": {
      "text/plain": [
       "0.9138181091105528"
      ]
     },
     "execution_count": 115,
     "metadata": {},
     "output_type": "execute_result"
    }
   ],
   "source": [
    "gbmodel.score(X,y)"
   ]
  },
  {
   "cell_type": "code",
   "execution_count": 116,
   "id": "fca793a0",
   "metadata": {},
   "outputs": [
    {
     "data": {
      "text/plain": [
       "array([0.86446177, 0.89248848, 0.88099609, 0.90072963, 0.86943307])"
      ]
     },
     "execution_count": 116,
     "metadata": {},
     "output_type": "execute_result"
    }
   ],
   "source": [
    "cross_val_score(gb,X,y)"
   ]
  },
  {
   "cell_type": "code",
   "execution_count": 117,
   "id": "0796381c",
   "metadata": {},
   "outputs": [
    {
     "data": {
      "text/plain": [
       "0.881621808"
      ]
     },
     "execution_count": 117,
     "metadata": {},
     "output_type": "execute_result"
    }
   ],
   "source": [
    "np.mean([0.86446177, 0.89248848, 0.88099609, 0.90072963, 0.86943307])"
   ]
  },
  {
   "cell_type": "code",
   "execution_count": 118,
   "id": "22385309",
   "metadata": {},
   "outputs": [],
   "source": [
    "gbpred=gbmodel.predict(X)"
   ]
  },
  {
   "cell_type": "code",
   "execution_count": 119,
   "id": "42da5447",
   "metadata": {},
   "outputs": [],
   "source": [
    "gbresid=y-gbpred"
   ]
  },
  {
   "cell_type": "code",
   "execution_count": 120,
   "id": "437b35be",
   "metadata": {},
   "outputs": [
    {
     "data": {
      "text/plain": [
       "180.79507341392167"
      ]
     },
     "execution_count": 120,
     "metadata": {},
     "output_type": "execute_result"
    }
   ],
   "source": [
    "np.sqrt(np.mean(gbresid**2))"
   ]
  },
  {
   "cell_type": "markdown",
   "id": "38869628",
   "metadata": {},
   "source": [
    "with Logarithmic Function"
   ]
  },
  {
   "cell_type": "code",
   "execution_count": 123,
   "id": "8be81517",
   "metadata": {},
   "outputs": [],
   "source": [
    "gb=GradientBoostingRegressor(n_estimators=100)"
   ]
  },
  {
   "cell_type": "code",
   "execution_count": 124,
   "id": "fd948088",
   "metadata": {},
   "outputs": [],
   "source": [
    "gbmodel=gb.fit(X,np.log(y))"
   ]
  },
  {
   "cell_type": "code",
   "execution_count": 125,
   "id": "de01996d",
   "metadata": {},
   "outputs": [
    {
     "data": {
      "text/plain": [
       "0.900367974817846"
      ]
     },
     "execution_count": 125,
     "metadata": {},
     "output_type": "execute_result"
    }
   ],
   "source": [
    "gbmodel.score(X,np.log(y))"
   ]
  },
  {
   "cell_type": "code",
   "execution_count": 126,
   "id": "219c7d02",
   "metadata": {},
   "outputs": [
    {
     "data": {
      "text/plain": [
       "array([0.8938093 , 0.90214816, 0.90068988, 0.89747221, 0.876087  ])"
      ]
     },
     "execution_count": 126,
     "metadata": {},
     "output_type": "execute_result"
    }
   ],
   "source": [
    "cross_val_score(gb,X,np.log(y))"
   ]
  },
  {
   "cell_type": "code",
   "execution_count": 127,
   "id": "e8ff29e0",
   "metadata": {},
   "outputs": [
    {
     "data": {
      "text/plain": [
       "0.8940413100000001"
      ]
     },
     "execution_count": 127,
     "metadata": {},
     "output_type": "execute_result"
    }
   ],
   "source": [
    "np.mean([0.8938093 , 0.90214816, 0.90068988, 0.89747221, 0.876087  ])"
   ]
  },
  {
   "cell_type": "code",
   "execution_count": 128,
   "id": "64ac1bf1",
   "metadata": {},
   "outputs": [],
   "source": [
    "gbpred=gbmodel.predict(X)"
   ]
  },
  {
   "cell_type": "code",
   "execution_count": 129,
   "id": "4c726484",
   "metadata": {},
   "outputs": [],
   "source": [
    "gbpred=np.exp(gbpred)"
   ]
  },
  {
   "cell_type": "code",
   "execution_count": 130,
   "id": "e877283a",
   "metadata": {},
   "outputs": [],
   "source": [
    "gbresid=y-gbpred"
   ]
  },
  {
   "cell_type": "code",
   "execution_count": 131,
   "id": "4de9c8ce",
   "metadata": {},
   "outputs": [
    {
     "data": {
      "text/plain": [
       "404.60482255378076"
      ]
     },
     "execution_count": 131,
     "metadata": {},
     "output_type": "execute_result"
    }
   ],
   "source": [
    "np.sqrt(np.mean(gbresid**2))"
   ]
  },
  {
   "cell_type": "markdown",
   "id": "46b5a883",
   "metadata": {},
   "source": [
    "# With LabelEncoder()"
   ]
  },
  {
   "cell_type": "markdown",
   "id": "6672946b",
   "metadata": {},
   "source": [
    "# Linear Regression"
   ]
  },
  {
   "cell_type": "markdown",
   "id": "7a6be294",
   "metadata": {},
   "source": [
    "Without Logarithmic function"
   ]
  },
  {
   "cell_type": "code",
   "execution_count": 147,
   "id": "2777511d",
   "metadata": {},
   "outputs": [],
   "source": [
    "regmodel=reg.fit(X1,y)"
   ]
  },
  {
   "cell_type": "code",
   "execution_count": 148,
   "id": "167d05e3",
   "metadata": {},
   "outputs": [
    {
     "data": {
      "text/plain": [
       "0.6472867770733209"
      ]
     },
     "execution_count": 148,
     "metadata": {},
     "output_type": "execute_result"
    }
   ],
   "source": [
    "regmodel.score(X1,y)"
   ]
  },
  {
   "cell_type": "code",
   "execution_count": 149,
   "id": "08a35573",
   "metadata": {},
   "outputs": [],
   "source": [
    "regpred=regmodel.predict(X1)"
   ]
  },
  {
   "cell_type": "code",
   "execution_count": 152,
   "id": "54dd3452",
   "metadata": {},
   "outputs": [
    {
     "data": {
      "text/plain": [
       "array([0.66002391, 0.68083126, 0.65268563, 0.61119579, 0.61699096])"
      ]
     },
     "execution_count": 152,
     "metadata": {},
     "output_type": "execute_result"
    }
   ],
   "source": [
    "cross_val_score(reg,X1,y)"
   ]
  },
  {
   "cell_type": "code",
   "execution_count": 154,
   "id": "c7ac5df6",
   "metadata": {},
   "outputs": [
    {
     "data": {
      "text/plain": [
       "0.6443455100000001"
      ]
     },
     "execution_count": 154,
     "metadata": {},
     "output_type": "execute_result"
    }
   ],
   "source": [
    "np.mean([0.66002391, 0.68083126, 0.65268563, 0.61119579, 0.61699096])"
   ]
  },
  {
   "cell_type": "code",
   "execution_count": 150,
   "id": "8d1c0eb0",
   "metadata": {},
   "outputs": [],
   "source": [
    "regresid=y-regpred"
   ]
  },
  {
   "cell_type": "code",
   "execution_count": 151,
   "id": "11713d52",
   "metadata": {},
   "outputs": [
    {
     "data": {
      "text/plain": [
       "365.75431070846753"
      ]
     },
     "execution_count": 151,
     "metadata": {},
     "output_type": "execute_result"
    }
   ],
   "source": [
    "np.sqrt(np.mean(regresid**2))"
   ]
  },
  {
   "cell_type": "markdown",
   "id": "f68c5dbd",
   "metadata": {},
   "source": [
    "With Logarithmic function"
   ]
  },
  {
   "cell_type": "code",
   "execution_count": 155,
   "id": "3df520da",
   "metadata": {},
   "outputs": [],
   "source": [
    "regmodel=reg.fit(X1,np.log(y))"
   ]
  },
  {
   "cell_type": "code",
   "execution_count": 156,
   "id": "efe3f092",
   "metadata": {},
   "outputs": [
    {
     "data": {
      "text/plain": [
       "0.557742616375192"
      ]
     },
     "execution_count": 156,
     "metadata": {},
     "output_type": "execute_result"
    }
   ],
   "source": [
    "regmodel.score(X1,np.log(y))"
   ]
  },
  {
   "cell_type": "code",
   "execution_count": 157,
   "id": "708b4456",
   "metadata": {},
   "outputs": [],
   "source": [
    "regpred=regmodel.predict(X1)"
   ]
  },
  {
   "cell_type": "code",
   "execution_count": 165,
   "id": "09bf3517",
   "metadata": {},
   "outputs": [
    {
     "data": {
      "text/plain": [
       "array([0.30280027, 0.56695334, 0.55972344, 0.54582628, 0.54560245])"
      ]
     },
     "execution_count": 165,
     "metadata": {},
     "output_type": "execute_result"
    }
   ],
   "source": [
    "cross_val_score(reg,X1,np.log(y))"
   ]
  },
  {
   "cell_type": "code",
   "execution_count": 166,
   "id": "c3b8318c",
   "metadata": {},
   "outputs": [
    {
     "data": {
      "text/plain": [
       "0.504181156"
      ]
     },
     "execution_count": 166,
     "metadata": {},
     "output_type": "execute_result"
    }
   ],
   "source": [
    "np.mean([0.30280027, 0.56695334, 0.55972344, 0.54582628, 0.54560245])"
   ]
  },
  {
   "cell_type": "code",
   "execution_count": 167,
   "id": "21d1ca1a",
   "metadata": {},
   "outputs": [],
   "source": [
    "regpred=np.exp(regpred)"
   ]
  },
  {
   "cell_type": "code",
   "execution_count": 168,
   "id": "1d98ce2b",
   "metadata": {},
   "outputs": [],
   "source": [
    "regresid=y-regpred"
   ]
  },
  {
   "cell_type": "code",
   "execution_count": 169,
   "id": "04d3b54b",
   "metadata": {},
   "outputs": [
    {
     "data": {
      "text/plain": [
       "inf"
      ]
     },
     "execution_count": 169,
     "metadata": {},
     "output_type": "execute_result"
    }
   ],
   "source": [
    "np.sqrt(np.mean(regresid**2))"
   ]
  },
  {
   "cell_type": "markdown",
   "id": "67fba59c",
   "metadata": {},
   "source": [
    "# Decision Tree"
   ]
  },
  {
   "cell_type": "markdown",
   "id": "da034e50",
   "metadata": {},
   "source": [
    "without Logarithmic function"
   ]
  },
  {
   "cell_type": "code",
   "execution_count": 207,
   "id": "315d46e4",
   "metadata": {},
   "outputs": [],
   "source": [
    "tree=DecisionTreeRegressor(max_depth=14)"
   ]
  },
  {
   "cell_type": "code",
   "execution_count": 208,
   "id": "6cb5acff",
   "metadata": {},
   "outputs": [],
   "source": [
    "treemodel=tree.fit(X1,y)"
   ]
  },
  {
   "cell_type": "code",
   "execution_count": 209,
   "id": "0b1b1d20",
   "metadata": {},
   "outputs": [
    {
     "data": {
      "text/plain": [
       "0.9422737090279821"
      ]
     },
     "execution_count": 209,
     "metadata": {},
     "output_type": "execute_result"
    }
   ],
   "source": [
    "treemodel.score(X1,y)"
   ]
  },
  {
   "cell_type": "code",
   "execution_count": 177,
   "id": "b6b22449",
   "metadata": {},
   "outputs": [
    {
     "data": {
      "text/plain": [
       "array([0.83875425, 0.85553136, 0.79205868, 0.87952706, 0.85864834])"
      ]
     },
     "execution_count": 177,
     "metadata": {},
     "output_type": "execute_result"
    }
   ],
   "source": [
    "cross_val_score(tree,X1,y)"
   ]
  },
  {
   "cell_type": "code",
   "execution_count": 210,
   "id": "85adc526",
   "metadata": {},
   "outputs": [
    {
     "data": {
      "text/plain": [
       "0.8449039380000001"
      ]
     },
     "execution_count": 210,
     "metadata": {},
     "output_type": "execute_result"
    }
   ],
   "source": [
    "np.mean([0.83875425, 0.85553136, 0.79205868, 0.87952706, 0.85864834])"
   ]
  },
  {
   "cell_type": "code",
   "execution_count": 211,
   "id": "19ee7625",
   "metadata": {},
   "outputs": [],
   "source": [
    "treepred=treemodel.predict(X1)"
   ]
  },
  {
   "cell_type": "code",
   "execution_count": 212,
   "id": "136642e5",
   "metadata": {},
   "outputs": [],
   "source": [
    "treeresid=y-treepred"
   ]
  },
  {
   "cell_type": "code",
   "execution_count": 213,
   "id": "984d7952",
   "metadata": {},
   "outputs": [
    {
     "data": {
      "text/plain": [
       "147.9671843475857"
      ]
     },
     "execution_count": 213,
     "metadata": {},
     "output_type": "execute_result"
    }
   ],
   "source": [
    "np.sqrt(np.mean(treeresid**2))"
   ]
  },
  {
   "cell_type": "markdown",
   "id": "6e8a345d",
   "metadata": {},
   "source": [
    "with Logarithmic Function"
   ]
  },
  {
   "cell_type": "code",
   "execution_count": 198,
   "id": "762b7fc0",
   "metadata": {},
   "outputs": [],
   "source": [
    "tree=DecisionTreeRegressor(max_depth=26)"
   ]
  },
  {
   "cell_type": "code",
   "execution_count": 199,
   "id": "73f5261e",
   "metadata": {},
   "outputs": [],
   "source": [
    "treemodel=tree.fit(X1,np.log(y))"
   ]
  },
  {
   "cell_type": "code",
   "execution_count": 200,
   "id": "9dd01990",
   "metadata": {},
   "outputs": [
    {
     "data": {
      "text/plain": [
       "0.9549003114355634"
      ]
     },
     "execution_count": 200,
     "metadata": {},
     "output_type": "execute_result"
    }
   ],
   "source": [
    "treemodel.score(X1,np.log(y))"
   ]
  },
  {
   "cell_type": "code",
   "execution_count": 201,
   "id": "8bcb1a8a",
   "metadata": {},
   "outputs": [
    {
     "data": {
      "text/plain": [
       "array([0.85091585, 0.88661668, 0.88786149, 0.8772771 , 0.84208443])"
      ]
     },
     "execution_count": 201,
     "metadata": {},
     "output_type": "execute_result"
    }
   ],
   "source": [
    "cross_val_score(tree,X1,np.log(y))"
   ]
  },
  {
   "cell_type": "code",
   "execution_count": 202,
   "id": "70dea88d",
   "metadata": {},
   "outputs": [
    {
     "data": {
      "text/plain": [
       "0.86895111"
      ]
     },
     "execution_count": 202,
     "metadata": {},
     "output_type": "execute_result"
    }
   ],
   "source": [
    "np.mean([0.85091585, 0.88661668, 0.88786149, 0.8772771 , 0.84208443])"
   ]
  },
  {
   "cell_type": "code",
   "execution_count": 203,
   "id": "5432a3f5",
   "metadata": {},
   "outputs": [],
   "source": [
    "treepred=treemodel.predict(X1)"
   ]
  },
  {
   "cell_type": "code",
   "execution_count": 204,
   "id": "31fe46da",
   "metadata": {},
   "outputs": [],
   "source": [
    "treepred=np.exp(treepred)"
   ]
  },
  {
   "cell_type": "code",
   "execution_count": 205,
   "id": "13d4d3cf",
   "metadata": {},
   "outputs": [],
   "source": [
    "treeresid=y-treepred"
   ]
  },
  {
   "cell_type": "code",
   "execution_count": 206,
   "id": "b9ebbba6",
   "metadata": {},
   "outputs": [
    {
     "data": {
      "text/plain": [
       "111.65857699358554"
      ]
     },
     "execution_count": 206,
     "metadata": {},
     "output_type": "execute_result"
    }
   ],
   "source": [
    "np.sqrt(np.mean(treeresid**2))"
   ]
  },
  {
   "cell_type": "markdown",
   "id": "6804d34b",
   "metadata": {},
   "source": [
    "# Random Forest"
   ]
  },
  {
   "cell_type": "markdown",
   "id": "065e6e19",
   "metadata": {},
   "source": [
    "without logarithmic function"
   ]
  },
  {
   "cell_type": "code",
   "execution_count": 231,
   "id": "5b10bc44",
   "metadata": {},
   "outputs": [],
   "source": [
    "rf=RandomForestRegressor(max_depth=15,n_estimators=70)"
   ]
  },
  {
   "cell_type": "code",
   "execution_count": 232,
   "id": "46741841",
   "metadata": {},
   "outputs": [],
   "source": [
    "rfmodel=rf.fit(X1,y)"
   ]
  },
  {
   "cell_type": "code",
   "execution_count": 233,
   "id": "72d1b72d",
   "metadata": {},
   "outputs": [
    {
     "data": {
      "text/plain": [
       "0.9481448549718849"
      ]
     },
     "execution_count": 233,
     "metadata": {},
     "output_type": "execute_result"
    }
   ],
   "source": [
    "rfmodel.score(X1,y)"
   ]
  },
  {
   "cell_type": "code",
   "execution_count": 234,
   "id": "0a6259ed",
   "metadata": {},
   "outputs": [
    {
     "data": {
      "text/plain": [
       "array([0.86406032, 0.89250203, 0.84112592, 0.91337804, 0.87547001])"
      ]
     },
     "execution_count": 234,
     "metadata": {},
     "output_type": "execute_result"
    }
   ],
   "source": [
    "cross_val_score(rf,X1,y)"
   ]
  },
  {
   "cell_type": "code",
   "execution_count": 246,
   "id": "aaeb5a76",
   "metadata": {},
   "outputs": [
    {
     "data": {
      "text/plain": [
       "0.877307264"
      ]
     },
     "execution_count": 246,
     "metadata": {},
     "output_type": "execute_result"
    }
   ],
   "source": [
    "np.mean([0.86406032, 0.89250203, 0.84112592, 0.91337804, 0.87547001])"
   ]
  },
  {
   "cell_type": "code",
   "execution_count": 235,
   "id": "db754fe8",
   "metadata": {},
   "outputs": [],
   "source": [
    "rfpred=rfmodel.predict(X1)"
   ]
  },
  {
   "cell_type": "code",
   "execution_count": 236,
   "id": "c0829d84",
   "metadata": {},
   "outputs": [],
   "source": [
    "rfresid=y-rfpred"
   ]
  },
  {
   "cell_type": "code",
   "execution_count": 237,
   "id": "03ae63dd",
   "metadata": {},
   "outputs": [
    {
     "data": {
      "text/plain": [
       "140.24084158575417"
      ]
     },
     "execution_count": 237,
     "metadata": {},
     "output_type": "execute_result"
    }
   ],
   "source": [
    "np.sqrt(np.mean(rfresid**2))"
   ]
  },
  {
   "cell_type": "markdown",
   "id": "26984b58",
   "metadata": {},
   "source": [
    "with logarithmic function"
   ]
  },
  {
   "cell_type": "code",
   "execution_count": 244,
   "id": "54d9f2be",
   "metadata": {},
   "outputs": [],
   "source": [
    "rf=RandomForestRegressor(max_depth=15,n_estimators=70)"
   ]
  },
  {
   "cell_type": "code",
   "execution_count": 238,
   "id": "427959a9",
   "metadata": {},
   "outputs": [],
   "source": [
    "rfmodel=rf.fit(X1,np.log(y))"
   ]
  },
  {
   "cell_type": "code",
   "execution_count": 239,
   "id": "2d2b47c2",
   "metadata": {},
   "outputs": [
    {
     "data": {
      "text/plain": [
       "0.9284325164023556"
      ]
     },
     "execution_count": 239,
     "metadata": {},
     "output_type": "execute_result"
    }
   ],
   "source": [
    "rfmodel.score(X1,np.log(y))"
   ]
  },
  {
   "cell_type": "code",
   "execution_count": 240,
   "id": "497cb656",
   "metadata": {},
   "outputs": [
    {
     "data": {
      "text/plain": [
       "array([0.90520928, 0.91622477, 0.91489474, 0.91024199, 0.88765527])"
      ]
     },
     "execution_count": 240,
     "metadata": {},
     "output_type": "execute_result"
    }
   ],
   "source": [
    "cross_val_score(rf,X1,np.log(y))"
   ]
  },
  {
   "cell_type": "code",
   "execution_count": 245,
   "id": "f3e0ec9b",
   "metadata": {},
   "outputs": [
    {
     "data": {
      "text/plain": [
       "0.90684521"
      ]
     },
     "execution_count": 245,
     "metadata": {},
     "output_type": "execute_result"
    }
   ],
   "source": [
    "np.mean([0.90520928, 0.91622477, 0.91489474, 0.91024199, 0.88765527])"
   ]
  },
  {
   "cell_type": "code",
   "execution_count": 241,
   "id": "9e0f99a6",
   "metadata": {},
   "outputs": [],
   "source": [
    "rfpred=rfmodel.predict(X1)"
   ]
  },
  {
   "cell_type": "code",
   "execution_count": 242,
   "id": "4007baef",
   "metadata": {},
   "outputs": [],
   "source": [
    "rfresid=y-rfpred"
   ]
  },
  {
   "cell_type": "code",
   "execution_count": 243,
   "id": "c3a6477f",
   "metadata": {},
   "outputs": [
    {
     "data": {
      "text/plain": [
       "656.8521063445103"
      ]
     },
     "execution_count": 243,
     "metadata": {},
     "output_type": "execute_result"
    }
   ],
   "source": [
    "np.sqrt(np.mean(rfresid**2))"
   ]
  },
  {
   "cell_type": "markdown",
   "id": "9cfcc805",
   "metadata": {},
   "source": [
    "# Gradient Boosting"
   ]
  },
  {
   "cell_type": "markdown",
   "id": "e308b162",
   "metadata": {},
   "source": [
    "without Logarithmic function"
   ]
  },
  {
   "cell_type": "code",
   "execution_count": 214,
   "id": "07b531d2",
   "metadata": {},
   "outputs": [],
   "source": [
    "gb=GradientBoostingRegressor(n_estimators=300)"
   ]
  },
  {
   "cell_type": "code",
   "execution_count": 215,
   "id": "0f37de62",
   "metadata": {},
   "outputs": [],
   "source": [
    "gbmodel=gb.fit(X1,y)"
   ]
  },
  {
   "cell_type": "code",
   "execution_count": 216,
   "id": "0ad99988",
   "metadata": {},
   "outputs": [
    {
     "data": {
      "text/plain": [
       "0.9134899739404803"
      ]
     },
     "execution_count": 216,
     "metadata": {},
     "output_type": "execute_result"
    }
   ],
   "source": [
    "gbmodel.score(X1,y)"
   ]
  },
  {
   "cell_type": "code",
   "execution_count": 217,
   "id": "27f80ee1",
   "metadata": {},
   "outputs": [
    {
     "data": {
      "text/plain": [
       "array([0.86778099, 0.8875633 , 0.88322517, 0.90790974, 0.87442432])"
      ]
     },
     "execution_count": 217,
     "metadata": {},
     "output_type": "execute_result"
    }
   ],
   "source": [
    "cross_val_score(gb,X1,y)"
   ]
  },
  {
   "cell_type": "code",
   "execution_count": 218,
   "id": "ce025ba5",
   "metadata": {},
   "outputs": [
    {
     "data": {
      "text/plain": [
       "0.884180704"
      ]
     },
     "execution_count": 218,
     "metadata": {},
     "output_type": "execute_result"
    }
   ],
   "source": [
    "np.mean([0.86778099, 0.8875633 , 0.88322517, 0.90790974, 0.87442432])"
   ]
  },
  {
   "cell_type": "code",
   "execution_count": 219,
   "id": "863be47c",
   "metadata": {},
   "outputs": [],
   "source": [
    "gbpred=gbmodel.predict(X1)"
   ]
  },
  {
   "cell_type": "code",
   "execution_count": 220,
   "id": "180848f9",
   "metadata": {},
   "outputs": [],
   "source": [
    "gbresid=y-gbpred"
   ]
  },
  {
   "cell_type": "code",
   "execution_count": 221,
   "id": "a7b2e7b3",
   "metadata": {},
   "outputs": [
    {
     "data": {
      "text/plain": [
       "181.1389325414794"
      ]
     },
     "execution_count": 221,
     "metadata": {},
     "output_type": "execute_result"
    }
   ],
   "source": [
    "np.sqrt(np.mean(gbresid**2))"
   ]
  },
  {
   "cell_type": "markdown",
   "id": "3ce8a673",
   "metadata": {},
   "source": [
    "with Logarithmic Function"
   ]
  },
  {
   "cell_type": "code",
   "execution_count": 222,
   "id": "fd3db096",
   "metadata": {},
   "outputs": [],
   "source": [
    "gb=GradientBoostingRegressor(n_estimators=100)"
   ]
  },
  {
   "cell_type": "code",
   "execution_count": 223,
   "id": "84426057",
   "metadata": {},
   "outputs": [],
   "source": [
    "gbmodel=gb.fit(X1,np.log(y))"
   ]
  },
  {
   "cell_type": "code",
   "execution_count": 224,
   "id": "7c21605b",
   "metadata": {},
   "outputs": [
    {
     "data": {
      "text/plain": [
       "0.8993454208654181"
      ]
     },
     "execution_count": 224,
     "metadata": {},
     "output_type": "execute_result"
    }
   ],
   "source": [
    "gbmodel.score(X1,np.log(y))"
   ]
  },
  {
   "cell_type": "code",
   "execution_count": 225,
   "id": "60780ea5",
   "metadata": {},
   "outputs": [
    {
     "data": {
      "text/plain": [
       "array([0.89464187, 0.90321947, 0.90168653, 0.8979398 , 0.87700978])"
      ]
     },
     "execution_count": 225,
     "metadata": {},
     "output_type": "execute_result"
    }
   ],
   "source": [
    "cross_val_score(gb,X1,np.log(y))"
   ]
  },
  {
   "cell_type": "code",
   "execution_count": 226,
   "id": "1079e707",
   "metadata": {},
   "outputs": [
    {
     "data": {
      "text/plain": [
       "0.89489949"
      ]
     },
     "execution_count": 226,
     "metadata": {},
     "output_type": "execute_result"
    }
   ],
   "source": [
    "np.mean([0.89464187, 0.90321947, 0.90168653, 0.8979398 , 0.87700978])"
   ]
  },
  {
   "cell_type": "code",
   "execution_count": 227,
   "id": "d04f5744",
   "metadata": {},
   "outputs": [],
   "source": [
    "gbpred=gbmodel.predict(X1)"
   ]
  },
  {
   "cell_type": "code",
   "execution_count": 228,
   "id": "cda2665e",
   "metadata": {},
   "outputs": [],
   "source": [
    "gbpred=np.exp(gbpred)"
   ]
  },
  {
   "cell_type": "code",
   "execution_count": 229,
   "id": "e287caa1",
   "metadata": {},
   "outputs": [],
   "source": [
    "gbresid=y-gbpred"
   ]
  },
  {
   "cell_type": "code",
   "execution_count": 230,
   "id": "dcb5cb4a",
   "metadata": {},
   "outputs": [
    {
     "data": {
      "text/plain": [
       "393.6431485461256"
      ]
     },
     "execution_count": 230,
     "metadata": {},
     "output_type": "execute_result"
    }
   ],
   "source": [
    "np.sqrt(np.mean(gbresid**2))"
   ]
  },
  {
   "cell_type": "markdown",
   "id": "14111c2d",
   "metadata": {},
   "source": [
    "Decision tree with max_depth=40 has gave the highest accuracy and lowest RMSE "
   ]
  },
  {
   "attachments": {
    "image.png": {
     "image/png": "[encoded data removed]"
    }
   },
   "cell_type": "markdown",
   "id": "04316cf8",
   "metadata": {},
   "source": [
    "![image.png](attachment:image.png)"
   ]
  }
 ],
 "metadata": {
  "kernelspec": {
   "display_name": "Python 3 (ipykernel)",
   "language": "python",
   "name": "python3"
  },
  "language_info": {
   "codemirror_mode": {
    "name": "ipython",
    "version": 3
   },
   "file_extension": ".py",
   "mimetype": "text/x-python",
   "name": "python",
   "nbconvert_exporter": "python",
   "pygments_lexer": "ipython3",
   "version": "3.9.16"
  }
 },
 "nbformat": 4,
 "nbformat_minor": 5
}
